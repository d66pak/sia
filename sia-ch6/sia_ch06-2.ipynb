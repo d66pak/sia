{
 "cells": [
  {
   "cell_type": "markdown",
   "metadata": {},
   "source": [
    "## 6.1.8 Window operations"
   ]
  },
  {
   "cell_type": "code",
   "execution_count": 1,
   "metadata": {
    "collapsed": true
   },
   "outputs": [],
   "source": [
    "from pyspark.streaming import StreamingContext"
   ]
  },
  {
   "cell_type": "code",
   "execution_count": 2,
   "metadata": {
    "collapsed": true
   },
   "outputs": [],
   "source": [
    "batchDurationInSecs = 5\n",
    "ssc = StreamingContext(sc, batchDuration=batchDurationInSecs)"
   ]
  },
  {
   "cell_type": "markdown",
   "metadata": {},
   "source": [
    "#### Monitors the given dir and reads each newly created file\n",
    "[Ref: textFileStream](http://spark.apache.org/docs/latest/api/python/pyspark.streaming.html#pyspark.streaming.StreamingContext.textFileStream)"
   ]
  },
  {
   "cell_type": "code",
   "execution_count": 3,
   "metadata": {
    "collapsed": true
   },
   "outputs": [],
   "source": [
    "# This will create a DStream (discretized stream), representing a sequence of RDDs,\n",
    "# periodically created from the input stream.\n",
    "fileStream = ssc.textFileStream('/home/deepakt/Documents/dev/spark/sia/sia-ch6/dataIn')"
   ]
  },
  {
   "cell_type": "code",
   "execution_count": 4,
   "metadata": {
    "collapsed": true
   },
   "outputs": [],
   "source": [
    "# Parse each line of DStream\n",
    "from datetime import datetime\n",
    "def parseOrder(line):\n",
    "    f = line.split(',')\n",
    "    if f[6] == 'B' or f[6] == 'S':\n",
    "        return [{\n",
    "            'time': datetime.strptime(f[0], '%Y-%m-%d %H:%M:%S'),\n",
    "            'orderId': long(f[1]),\n",
    "            'clientId': long(f[2]),\n",
    "            'symbol': f[3],\n",
    "            'amount': int(f[4]),\n",
    "            'price': float(f[5]),\n",
    "            'buy': f[6] == 'B'\n",
    "        }]\n",
    "    return []"
   ]
  },
  {
   "cell_type": "code",
   "execution_count": 5,
   "metadata": {
    "collapsed": true
   },
   "outputs": [],
   "source": [
    "ds_orders = fileStream.flatMap(parseOrder)"
   ]
  },
  {
   "cell_type": "code",
   "execution_count": 6,
   "metadata": {
    "collapsed": true
   },
   "outputs": [],
   "source": [
    "# Count number of buys and sells by creating tuple and reduce\n",
    "from operator import add\n",
    "ds_numPerType = ds_orders.map(lambda order: (order['buy'], 1L)).reduceByKey(add)"
   ]
  },
  {
   "cell_type": "code",
   "execution_count": 7,
   "metadata": {
    "collapsed": true
   },
   "outputs": [],
   "source": [
    "# DStream to calculate total amount per client\n",
    "ds_amountPerClient = ds_orders.map(lambda order: (order['clientId'], order['amount'] * order['price']))"
   ]
  },
  {
   "cell_type": "markdown",
   "metadata": {
    "collapsed": true
   },
   "source": [
    "#### updateStateByKey(updateFunction)\n",
    "updateFunction : Function to update state for each key\n",
    "    \n",
    "The first argument of this function is a Seq object with new values of a key that came in the current mini-batch. The second argument is the state value of the key, or None if the state for that key hasn’t been calculated yet. If the state for the key has been calculated, but no new values for the key were received in the current mini-batch, the first argument will be an empty Seq. The function should return the new value for the key’s state."
   ]
  },
  {
   "cell_type": "code",
   "execution_count": 8,
   "metadata": {
    "collapsed": true
   },
   "outputs": [],
   "source": [
    "ds_amountState = ds_amountPerClient \\\n",
    "    .updateStateByKey(lambda l_amount, total_amount: sum(l_amount) + total_amount if total_amount != None else sum(l_amount))"
   ]
  },
  {
   "cell_type": "code",
   "execution_count": 9,
   "metadata": {
    "collapsed": true
   },
   "outputs": [],
   "source": [
    "# In each batch/rdd reverse sort by total_amount and pick top 5 clients\n",
    "# transform() is use to work on each rdd in each DStream\n",
    "\n",
    "ds_top5Clients = ds_amountState \\\n",
    "    .transform(lambda rdd: rdd.sortBy(lambda (clientId, amount): amount, ascending=False)\n",
    "                                .map(lambda (clientId, amount): clientId) \\\n",
    "                                .zipWithIndex() \\\n",
    "                                .filter(lambda (clientId, i): i < 5) \\\n",
    "                                .map(lambda (clientId, i): clientId)\n",
    "              )"
   ]
  },
  {
   "cell_type": "code",
   "execution_count": 10,
   "metadata": {
    "collapsed": true
   },
   "outputs": [],
   "source": [
    "ds_top5Clients.pprint(5)"
   ]
  },
  {
   "cell_type": "markdown",
   "metadata": {},
   "source": [
    "### Find top 5 most traded securities during last hour"
   ]
  },
  {
   "cell_type": "code",
   "execution_count": 11,
   "metadata": {
    "collapsed": true
   },
   "outputs": [],
   "source": [
    "# For testing i've set window size to 1 minute\n",
    "ds_stocksPerWindow = ds_orders.map(lambda order: (order['symbol'], order['amount'])) \\\n",
    "                                .window(60, slideDuration=5) \\\n",
    "                                .reduceByKey(add)"
   ]
  },
  {
   "cell_type": "code",
   "execution_count": 12,
   "metadata": {
    "collapsed": true
   },
   "outputs": [],
   "source": [
    "ds_stocksPerWindow.pprint(2)"
   ]
  },
  {
   "cell_type": "code",
   "execution_count": 13,
   "metadata": {
    "collapsed": true
   },
   "outputs": [],
   "source": [
    "# Find top 5 stocks\n",
    "ds_top5Stocks = ds_stocksPerWindow \\\n",
    "    .transform(lambda rdd: rdd.sortBy(lambda (symbol, amout): amount, ascending=False) \\\n",
    "                               .map(lambda (symbol, amount): symbol) \\\n",
    "                               .zipWithIndex() \\\n",
    "                               .filter(lambda (symbol, i): i < 5) \\\n",
    "                               .map(lambda (symbol, i): symbol)\n",
    "              ) \\\n",
    "    .repartition(1) \\\n",
    "    .glom() \\\n",
    "    .map(lambda l_symbol: ('TOP5STOCKS', l_symbol))"
   ]
  },
  {
   "cell_type": "code",
   "execution_count": 14,
   "metadata": {
    "collapsed": true
   },
   "outputs": [],
   "source": [
    "ds_top5Stocks.pprint(5)"
   ]
  },
  {
   "cell_type": "markdown",
   "metadata": {},
   "source": [
    "### Start merging streams"
   ]
  },
  {
   "cell_type": "code",
   "execution_count": 15,
   "metadata": {
    "collapsed": true
   },
   "outputs": [],
   "source": [
    "# Add 'BUYS'/'SELLS' to ds_numPerType\n",
    "ds_buySellMetric = ds_numPerType.map(lambda (bors, num): ('BUYS', [str(num)]) if bors else ('SELLS', [str(num)]))"
   ]
  },
  {
   "cell_type": "code",
   "execution_count": 16,
   "metadata": {
    "collapsed": true
   },
   "outputs": [],
   "source": [
    "# Add 'TOP5CLIENTS' to ds_top5Clients and convert list of clientIds to list of str(clientId)\n",
    "ds_top5ClinetMetric = ds_top5Clients \\\n",
    "                        .map(lambda clientId: str(clientId)) \\\n",
    "                        .repartition(1) \\\n",
    "                        .glom() \\\n",
    "                        .map(lambda l_clientId: ('TOP5CLIENTS', l_clientId))"
   ]
  },
  {
   "cell_type": "code",
   "execution_count": 17,
   "metadata": {
    "collapsed": true
   },
   "outputs": [],
   "source": [
    "# Add 'TOP5STOCKS'\n",
    "ds_top5StockMetric = ds_top5Stocks \\\n",
    "                        .repartition(1) \\\n",
    "                        .glom() \\\n",
    "                        .map(lambda l_symbol: ('TOP5STOCKS', l_symbol))"
   ]
  },
  {
   "cell_type": "code",
   "execution_count": 17,
   "metadata": {
    "collapsed": true
   },
   "outputs": [],
   "source": [
    "# Join the two streams\n",
    "ds_final = ds_buySellMetric.union(ds_top5ClinetMetric)"
   ]
  },
  {
   "cell_type": "code",
   "execution_count": 18,
   "metadata": {
    "collapsed": true
   },
   "outputs": [],
   "source": [
    "# Store it to file\n",
    "ds_final.repartition(1).saveAsTextFiles(prefix='dataOut/output', suffix='txt')"
   ]
  },
  {
   "cell_type": "markdown",
   "metadata": {},
   "source": [
    "#### Checkpointing\n",
    "\n",
    "updateStateByKeyexpands RDD’s DAG in each mini-batch, and that can quickly lead to stack overflow exceptions. By periodically checkpointing RDDs, their calculation plan’s dependence on previous mini-batches is broken."
   ]
  },
  {
   "cell_type": "code",
   "execution_count": 19,
   "metadata": {
    "collapsed": true
   },
   "outputs": [],
   "source": [
    "sc.setCheckpointDir('.')"
   ]
  },
  {
   "cell_type": "code",
   "execution_count": 20,
   "metadata": {
    "scrolled": true
   },
   "outputs": [
    {
     "name": "stdout",
     "output_type": "stream",
     "text": [
      "-------------------------------------------\n",
      "Time: 2017-10-04 14:22:10\n",
      "-------------------------------------------\n",
      "\n",
      "-------------------------------------------\n",
      "Time: 2017-10-04 14:22:10\n",
      "-------------------------------------------\n",
      "\n",
      "-------------------------------------------\n",
      "Time: 2017-10-04 14:22:10\n",
      "-------------------------------------------\n",
      "('TOP5STOCKS', [])\n",
      "\n",
      "-------------------------------------------\n",
      "Time: 2017-10-04 14:22:15\n",
      "-------------------------------------------\n",
      "\n",
      "-------------------------------------------\n",
      "Time: 2017-10-04 14:22:15\n",
      "-------------------------------------------\n",
      "\n",
      "-------------------------------------------\n",
      "Time: 2017-10-04 14:22:15\n",
      "-------------------------------------------\n",
      "('TOP5STOCKS', [])\n",
      "\n",
      "-------------------------------------------\n",
      "Time: 2017-10-04 14:24:10\n",
      "-------------------------------------------\n",
      "87\n",
      "23\n",
      "70\n",
      "15\n",
      "10\n",
      "\n",
      "-------------------------------------------\n",
      "Time: 2017-10-04 14:24:10\n",
      "-------------------------------------------\n",
      "\n",
      "-------------------------------------------\n",
      "Time: 2017-10-04 14:24:10\n",
      "-------------------------------------------\n",
      "('TOP5STOCKS', [])\n",
      "\n",
      "-------------------------------------------\n",
      "Time: 2017-10-04 14:24:15\n",
      "-------------------------------------------\n",
      "87\n",
      "23\n",
      "70\n",
      "15\n",
      "10\n",
      "\n",
      "-------------------------------------------\n",
      "Time: 2017-10-04 14:24:15\n",
      "-------------------------------------------\n",
      "\n",
      "-------------------------------------------\n",
      "Time: 2017-10-04 14:24:15\n",
      "-------------------------------------------\n",
      "('TOP5STOCKS', [])\n",
      "\n",
      "-------------------------------------------\n",
      "Time: 2017-10-04 14:24:20\n",
      "-------------------------------------------\n",
      "87\n",
      "23\n",
      "70\n",
      "15\n",
      "10\n",
      "\n",
      "-------------------------------------------\n",
      "Time: 2017-10-04 14:24:20\n",
      "-------------------------------------------\n",
      "\n",
      "-------------------------------------------\n",
      "Time: 2017-10-04 14:24:20\n",
      "-------------------------------------------\n",
      "('TOP5STOCKS', [])\n",
      "\n",
      "-------------------------------------------\n",
      "Time: 2017-10-04 14:24:25\n",
      "-------------------------------------------\n",
      "87\n",
      "23\n",
      "70\n",
      "15\n",
      "10\n",
      "\n",
      "-------------------------------------------\n",
      "Time: 2017-10-04 14:24:25\n",
      "-------------------------------------------\n",
      "\n",
      "-------------------------------------------\n",
      "Time: 2017-10-04 14:24:25\n",
      "-------------------------------------------\n",
      "('TOP5STOCKS', [])\n",
      "\n",
      "-------------------------------------------\n",
      "Time: 2017-10-04 14:24:30\n",
      "-------------------------------------------\n",
      "87\n",
      "23\n",
      "70\n",
      "15\n",
      "10\n",
      "\n",
      "-------------------------------------------\n",
      "Time: 2017-10-04 14:24:30\n",
      "-------------------------------------------\n",
      "\n",
      "-------------------------------------------\n",
      "Time: 2017-10-04 14:24:30\n",
      "-------------------------------------------\n",
      "('TOP5STOCKS', [])\n",
      "\n",
      "-------------------------------------------\n",
      "Time: 2017-10-04 14:24:35\n",
      "-------------------------------------------\n",
      "87\n",
      "23\n",
      "70\n",
      "15\n",
      "10\n",
      "\n",
      "-------------------------------------------\n",
      "Time: 2017-10-04 14:24:35\n",
      "-------------------------------------------\n",
      "\n",
      "-------------------------------------------\n",
      "Time: 2017-10-04 14:24:35\n",
      "-------------------------------------------\n",
      "('TOP5STOCKS', [])\n",
      "\n",
      "-------------------------------------------\n",
      "Time: 2017-10-04 14:24:40\n",
      "-------------------------------------------\n",
      "87\n",
      "23\n",
      "70\n",
      "15\n",
      "10\n",
      "\n",
      "-------------------------------------------\n",
      "Time: 2017-10-04 14:24:40\n",
      "-------------------------------------------\n",
      "\n",
      "-------------------------------------------\n",
      "Time: 2017-10-04 14:24:40\n",
      "-------------------------------------------\n",
      "('TOP5STOCKS', [])\n",
      "\n",
      "-------------------------------------------\n",
      "Time: 2017-10-04 14:24:45\n",
      "-------------------------------------------\n",
      "87\n",
      "23\n",
      "70\n",
      "15\n",
      "10\n",
      "\n",
      "-------------------------------------------\n",
      "Time: 2017-10-04 14:24:45\n",
      "-------------------------------------------\n",
      "\n",
      "-------------------------------------------\n",
      "Time: 2017-10-04 14:24:45\n",
      "-------------------------------------------\n",
      "('TOP5STOCKS', [])\n",
      "\n",
      "-------------------------------------------\n",
      "Time: 2017-10-04 14:24:50\n",
      "-------------------------------------------\n",
      "87\n",
      "23\n",
      "70\n",
      "15\n",
      "10\n",
      "\n",
      "-------------------------------------------\n",
      "Time: 2017-10-04 14:24:50\n",
      "-------------------------------------------\n",
      "\n",
      "-------------------------------------------\n",
      "Time: 2017-10-04 14:24:50\n",
      "-------------------------------------------\n",
      "('TOP5STOCKS', [])\n",
      "\n"
     ]
    }
   ],
   "source": [
    "ssc.start()"
   ]
  },
  {
   "cell_type": "code",
   "execution_count": 21,
   "metadata": {
    "collapsed": true
   },
   "outputs": [],
   "source": [
    "ssc.stop(False)"
   ]
  },
  {
   "cell_type": "code",
   "execution_count": 22,
   "metadata": {
    "collapsed": true
   },
   "outputs": [],
   "source": [
    "# Read the result\n",
    "rdd_allMetrics = sc.textFile(\"dataOut/output-*.txt/\")"
   ]
  },
  {
   "cell_type": "code",
   "execution_count": 23,
   "metadata": {},
   "outputs": [
    {
     "data": {
      "text/plain": [
       "[u\"('TOP5CLIENTS', ['87', '23', '70', '15', '10'])\",\n",
       " u\"('TOP5CLIENTS', ['87', '23', '70', '15', '10'])\",\n",
       " u\"('TOP5CLIENTS', ['87', '23', '70', '15', '10'])\",\n",
       " u\"('TOP5CLIENTS', ['87', '23', '70', '15', '10'])\",\n",
       " u\"('TOP5CLIENTS', ['87', '23', '70', '15', '10'])\",\n",
       " u\"('TOP5CLIENTS', ['87', '23', '70', '15', '10'])\",\n",
       " u\"('TOP5CLIENTS', [])\",\n",
       " u\"('TOP5CLIENTS', [])\",\n",
       " u\"('TOP5CLIENTS', ['87', '23', '70', '15', '10'])\",\n",
       " u\"('TOP5CLIENTS', ['87', '23', '70', '15', '10'])\",\n",
       " u\"('TOP5CLIENTS', ['87', '23', '70', '15', '10'])\"]"
      ]
     },
     "execution_count": 23,
     "metadata": {},
     "output_type": "execute_result"
    }
   ],
   "source": [
    "# Each line is a string; needs to converted to tuple\n",
    "rdd_allMetrics.take(100)"
   ]
  },
  {
   "cell_type": "code",
   "execution_count": null,
   "metadata": {
    "collapsed": true
   },
   "outputs": [],
   "source": [
    "ds_amountPerClient.m"
   ]
  }
 ],
 "metadata": {
  "kernelspec": {
   "display_name": "Spark venv (Python 2)",
   "language": "python",
   "name": "sparkvenv"
  },
  "language_info": {
   "codemirror_mode": {
    "name": "ipython",
    "version": 2
   },
   "file_extension": ".py",
   "mimetype": "text/x-python",
   "name": "python",
   "nbconvert_exporter": "python",
   "pygments_lexer": "ipython2",
   "version": "2.7.12"
  }
 },
 "nbformat": 4,
 "nbformat_minor": 2
}
