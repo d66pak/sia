{
 "cells": [
  {
   "cell_type": "markdown",
   "metadata": {},
   "source": [
    "# Chapter 4"
   ]
  },
  {
   "cell_type": "markdown",
   "metadata": {},
   "source": [
    "## 4.1.2"
   ]
  },
  {
   "cell_type": "code",
   "execution_count": 1,
   "metadata": {
    "collapsed": true
   },
   "outputs": [],
   "source": [
    "rdd_trans = sc.textFile('dataIn/ch04_data_transactions.txt')"
   ]
  },
  {
   "cell_type": "code",
   "execution_count": 2,
   "metadata": {},
   "outputs": [
    {
     "data": {
      "text/plain": [
       "1000"
      ]
     },
     "execution_count": 2,
     "metadata": {},
     "output_type": "execute_result"
    }
   ],
   "source": [
    "rdd_trans.count()"
   ]
  },
  {
   "cell_type": "code",
   "execution_count": 3,
   "metadata": {},
   "outputs": [
    {
     "data": {
      "text/plain": [
       "[u'2015-03-30#6:55 AM#51#68#1#9506.21',\n",
       " u'2015-03-30#7:39 PM#99#86#5#4107.59',\n",
       " u'2015-03-30#11:57 AM#79#58#7#2987.22',\n",
       " u'2015-03-30#12:46 AM#51#50#6#7501.89',\n",
       " u'2015-03-30#11:39 AM#86#24#5#8370.2']"
      ]
     },
     "execution_count": 3,
     "metadata": {},
     "output_type": "execute_result"
    }
   ],
   "source": [
    "rdd_trans.take(5)"
   ]
  },
  {
   "cell_type": "code",
   "execution_count": 4,
   "metadata": {
    "collapsed": true
   },
   "outputs": [],
   "source": [
    "rdd_trans_data = rdd_trans.map(lambda line: line.split('#'))"
   ]
  },
  {
   "cell_type": "code",
   "execution_count": 5,
   "metadata": {},
   "outputs": [
    {
     "data": {
      "text/plain": [
       "1000"
      ]
     },
     "execution_count": 5,
     "metadata": {},
     "output_type": "execute_result"
    }
   ],
   "source": [
    "rdd_trans_data.count()"
   ]
  },
  {
   "cell_type": "code",
   "execution_count": 6,
   "metadata": {},
   "outputs": [
    {
     "data": {
      "text/plain": [
       "[[u'2015-03-30', u'6:55 AM', u'51', u'68', u'1', u'9506.21'],\n",
       " [u'2015-03-30', u'7:39 PM', u'99', u'86', u'5', u'4107.59'],\n",
       " [u'2015-03-30', u'11:57 AM', u'79', u'58', u'7', u'2987.22'],\n",
       " [u'2015-03-30', u'12:46 AM', u'51', u'50', u'6', u'7501.89'],\n",
       " [u'2015-03-30', u'11:39 AM', u'86', u'24', u'5', u'8370.2']]"
      ]
     },
     "execution_count": 6,
     "metadata": {},
     "output_type": "execute_result"
    }
   ],
   "source": [
    "rdd_trans_data.take(5)"
   ]
  },
  {
   "cell_type": "code",
   "execution_count": 7,
   "metadata": {
    "collapsed": true
   },
   "outputs": [],
   "source": [
    "# create paired rdd\n",
    "rdd_trans_by_cust = rdd_trans_data.map(lambda trans: (int(trans[2]), trans))"
   ]
  },
  {
   "cell_type": "code",
   "execution_count": 8,
   "metadata": {},
   "outputs": [
    {
     "data": {
      "text/plain": [
       "1000"
      ]
     },
     "execution_count": 8,
     "metadata": {},
     "output_type": "execute_result"
    }
   ],
   "source": [
    "rdd_trans_by_cust.count()"
   ]
  },
  {
   "cell_type": "code",
   "execution_count": 9,
   "metadata": {},
   "outputs": [
    {
     "data": {
      "text/plain": [
       "[(51, [u'2015-03-30', u'6:55 AM', u'51', u'68', u'1', u'9506.21']),\n",
       " (99, [u'2015-03-30', u'7:39 PM', u'99', u'86', u'5', u'4107.59']),\n",
       " (79, [u'2015-03-30', u'11:57 AM', u'79', u'58', u'7', u'2987.22']),\n",
       " (51, [u'2015-03-30', u'12:46 AM', u'51', u'50', u'6', u'7501.89']),\n",
       " (86, [u'2015-03-30', u'11:39 AM', u'86', u'24', u'5', u'8370.2'])]"
      ]
     },
     "execution_count": 9,
     "metadata": {},
     "output_type": "execute_result"
    }
   ],
   "source": [
    "rdd_trans_by_cust.take(5)"
   ]
  },
  {
   "cell_type": "code",
   "execution_count": 10,
   "metadata": {},
   "outputs": [
    {
     "data": {
      "text/plain": [
       "100"
      ]
     },
     "execution_count": 10,
     "metadata": {},
     "output_type": "execute_result"
    }
   ],
   "source": [
    "# Unique transactions\n",
    "rdd_trans_by_cust.keys().distinct().count()"
   ]
  },
  {
   "cell_type": "code",
   "execution_count": 11,
   "metadata": {},
   "outputs": [
    {
     "data": {
      "text/plain": [
       "[2, 4, 6, 8, 10]"
      ]
     },
     "execution_count": 11,
     "metadata": {},
     "output_type": "execute_result"
    }
   ],
   "source": [
    "rdd_trans_by_cust.keys().distinct().take(5)"
   ]
  },
  {
   "cell_type": "markdown",
   "metadata": {},
   "source": [
    "## Give a complimentary bear doll (ID 4) to the customer who made the most transactions."
   ]
  },
  {
   "cell_type": "code",
   "execution_count": 12,
   "metadata": {},
   "outputs": [
    {
     "data": {
      "text/plain": [
       "(19, 53)"
      ]
     },
     "execution_count": 12,
     "metadata": {},
     "output_type": "execute_result"
    }
   ],
   "source": [
    "# 1st method\n",
    "(trans_count, cid) = sorted(rdd_trans_by_cust \\\n",
    "                            .groupByKey() \\\n",
    "                            .mapValues(len) \\\n",
    "                            .map(lambda t: (t[1], t[0])) \\\n",
    "                            .collect()\n",
    "                           )[-1]\n",
    "(trans_count, cid)"
   ]
  },
  {
   "cell_type": "code",
   "execution_count": 13,
   "metadata": {},
   "outputs": [
    {
     "data": {
      "text/plain": [
       "(53, 19)"
      ]
     },
     "execution_count": 13,
     "metadata": {},
     "output_type": "execute_result"
    }
   ],
   "source": [
    "# 2nd method\n",
    "(cid, trans_count) = sorted(rdd_trans_by_cust \\\n",
    "                            .groupByKey() \\\n",
    "                            .mapValues(len) \\\n",
    "                            .collect(), key=lambda t: t[1], reverse=True)[0]\n",
    "(cid, trans_count)"
   ]
  },
  {
   "cell_type": "code",
   "execution_count": 14,
   "metadata": {},
   "outputs": [
    {
     "data": {
      "text/plain": [
       "(53, 19)"
      ]
     },
     "execution_count": 14,
     "metadata": {},
     "output_type": "execute_result"
    }
   ],
   "source": [
    "(cid, trans_count) = sorted(rdd_trans_by_cust \\\n",
    "                            .countByKey() \\\n",
    "                            .items(), key=lambda t: t[1], reverse=True)[0]\n",
    "(cid, trans_count)"
   ]
  },
  {
   "cell_type": "markdown",
   "metadata": {},
   "source": [
    "### Transactions made by customerId : 53"
   ]
  },
  {
   "cell_type": "code",
   "execution_count": 41,
   "metadata": {},
   "outputs": [
    {
     "data": {
      "text/plain": [
       "[[u'2015-03-30', u'6:18 AM', u'53', u'42', u'5', u'2197.85'],\n",
       " [u'2015-03-30', u'4:42 AM', u'53', u'44', u'6', u'9182.08'],\n",
       " [u'2015-03-30', u'2:51 AM', u'53', u'59', u'5', u'3154.43'],\n",
       " [u'2015-03-30', u'5:57 PM', u'53', u'31', u'5', u'6649.27'],\n",
       " [u'2015-03-30', u'6:11 AM', u'53', u'33', u'10', u'2353.72'],\n",
       " [u'2015-03-30', u'9:46 PM', u'53', u'93', u'1', u'2889.03'],\n",
       " [u'2015-03-30', u'4:15 PM', u'53', u'72', u'7', u'9157.55'],\n",
       " [u'2015-03-30', u'2:42 PM', u'53', u'94', u'1', u'921.65'],\n",
       " [u'2015-03-30', u'8:30 AM', u'53', u'38', u'5', u'4000.92'],\n",
       " [u'2015-03-30', u'6:06 AM', u'53', u'12', u'6', u'2174.02'],\n",
       " [u'2015-03-30', u'3:44 AM', u'53', u'47', u'1', u'7556.32'],\n",
       " [u'2015-03-30', u'10:25 AM', u'53', u'30', u'2', u'5107.0'],\n",
       " [u'2015-03-30', u'1:48 AM', u'53', u'58', u'4', u'718.93'],\n",
       " [u'2015-03-30', u'9:31 AM', u'53', u'18', u'4', u'8214.79'],\n",
       " [u'2015-03-30', u'9:04 AM', u'53', u'68', u'4', u'9246.59'],\n",
       " [u'2015-03-30', u'1:51 AM', u'53', u'40', u'1', u'4095.5'],\n",
       " [u'2015-03-30', u'1:53 PM', u'53', u'85', u'9', u'1630.24'],\n",
       " [u'2015-03-30', u'6:51 PM', u'53', u'100', u'1', u'1694.52'],\n",
       " [u'2015-03-30', u'7:39 PM', u'53', u'100', u'8', u'7885.35']]"
      ]
     },
     "execution_count": 41,
     "metadata": {},
     "output_type": "execute_result"
    }
   ],
   "source": [
    "rdd_trans_by_cust.lookup(53)"
   ]
  },
  {
   "cell_type": "code",
   "execution_count": 52,
   "metadata": {
    "collapsed": true
   },
   "outputs": [],
   "source": [
    "# Complementary Bear doll\n",
    "l_l_complTrans = [[\"2015-03-30\", \"11:59 PM\", \"53\", \"4\", \"1\", \"0.00\"]]"
   ]
  },
  {
   "cell_type": "markdown",
   "metadata": {},
   "source": [
    "## Give a 5% discount for two or more Barbie Shopping Mall Playsets bought"
   ]
  },
  {
   "cell_type": "markdown",
   "metadata": {},
   "source": [
    "#### filter() is used just to check if any customer match above criteria\n",
    "#### filter() when called on a paired rdd receives a tuple (k, v)"
   ]
  },
  {
   "cell_type": "code",
   "execution_count": 15,
   "metadata": {},
   "outputs": [
    {
     "data": {
      "text/plain": [
       "9"
      ]
     },
     "execution_count": 15,
     "metadata": {},
     "output_type": "execute_result"
    }
   ],
   "source": [
    "rdd_trans_by_cust.filter(lambda t: int(t[1][3]) == 25 and int(t[1][4]) > 1).count()"
   ]
  },
  {
   "cell_type": "code",
   "execution_count": 16,
   "metadata": {
    "collapsed": true
   },
   "outputs": [],
   "source": [
    "def isMultipleBarbiShpMallPlay(trans):\n",
    "    return int(trans[3]) == 25 and int(trans[4]) > 1"
   ]
  },
  {
   "cell_type": "code",
   "execution_count": 17,
   "metadata": {},
   "outputs": [
    {
     "data": {
      "text/plain": [
       "[(17, [u'2015-03-30', u'6:26 PM', u'17', u'25', u'6', u'7193.11']),\n",
       " (93, [u'2015-03-30', u'7:27 AM', u'93', u'25', u'7', u'2749.15']),\n",
       " (68, [u'2015-03-30', u'1:07 AM', u'68', u'25', u'9', u'8391.61']),\n",
       " (59, [u'2015-03-30', u'1:23 AM', u'59', u'25', u'5', u'5296.69']),\n",
       " (42, [u'2015-03-30', u'9:45 AM', u'42', u'25', u'10', u'1363.97']),\n",
       " (77, [u'2015-03-30', u'10:40 PM', u'77', u'25', u'3', u'3345.81']),\n",
       " (22, [u'2015-03-30', u'12:53 PM', u'22', u'25', u'9', u'6996.42']),\n",
       " (32, [u'2015-03-30', u'12:44 AM', u'32', u'25', u'8', u'8849.5']),\n",
       " (75, [u'2015-03-30', u'5:30 PM', u'75', u'25', u'10', u'3557.01'])]"
      ]
     },
     "execution_count": 17,
     "metadata": {},
     "output_type": "execute_result"
    }
   ],
   "source": [
    "rdd_trans_by_cust.filter(lambda t: isMultipleBarbiShpMallPlay(t[1])).take(10)"
   ]
  },
  {
   "cell_type": "code",
   "execution_count": 18,
   "metadata": {
    "collapsed": true
   },
   "outputs": [],
   "source": [
    "def apply5PercentDiscount(trans):\n",
    "    if isMultipleBarbiShpMallPlay(trans):\n",
    "        trans[5] = str(float(trans[5]) * 0.95)\n",
    "    return trans"
   ]
  },
  {
   "cell_type": "markdown",
   "metadata": {},
   "source": [
    "#### mapValues() : http://spark.apache.org/docs/2.1.0/api/python/pyspark.html#pyspark.RDD.mapValues"
   ]
  },
  {
   "cell_type": "code",
   "execution_count": 19,
   "metadata": {
    "collapsed": true
   },
   "outputs": [],
   "source": [
    "rdd_trans_by_cust_discount = rdd_trans_by_cust.mapValues(lambda trans: apply5PercentDiscount(trans))"
   ]
  },
  {
   "cell_type": "markdown",
   "metadata": {},
   "source": [
    "#### Cross check mapValues results using filter"
   ]
  },
  {
   "cell_type": "code",
   "execution_count": 20,
   "metadata": {},
   "outputs": [
    {
     "data": {
      "text/plain": [
       "[(17, [u'2015-03-30', u'6:26 PM', u'17', u'25', u'6', '6833.4545']),\n",
       " (93, [u'2015-03-30', u'7:27 AM', u'93', u'25', u'7', '2611.6925']),\n",
       " (68, [u'2015-03-30', u'1:07 AM', u'68', u'25', u'9', '7972.0295']),\n",
       " (59, [u'2015-03-30', u'1:23 AM', u'59', u'25', u'5', '5031.8555']),\n",
       " (42, [u'2015-03-30', u'9:45 AM', u'42', u'25', u'10', '1295.7715']),\n",
       " (77, [u'2015-03-30', u'10:40 PM', u'77', u'25', u'3', '3178.5195']),\n",
       " (22, [u'2015-03-30', u'12:53 PM', u'22', u'25', u'9', '6646.599']),\n",
       " (32, [u'2015-03-30', u'12:44 AM', u'32', u'25', u'8', '8407.025']),\n",
       " (75, [u'2015-03-30', u'5:30 PM', u'75', u'25', u'10', '3379.1595'])]"
      ]
     },
     "execution_count": 20,
     "metadata": {},
     "output_type": "execute_result"
    }
   ],
   "source": [
    "rdd_trans_by_cust_discount.filter(lambda t: isMultipleBarbiShpMallPlay(t[1])).take(10)"
   ]
  },
  {
   "cell_type": "markdown",
   "metadata": {},
   "source": [
    "## Add a complimentary toothbrush (ID 70) to customers who bought five or more dictionaries (ID 81)"
   ]
  },
  {
   "cell_type": "code",
   "execution_count": 21,
   "metadata": {
    "collapsed": true
   },
   "outputs": [],
   "source": [
    "def isMultipleDictBought(tran):\n",
    "    return int(tran[3]) == 81 and int(tran[4]) > 4"
   ]
  },
  {
   "cell_type": "code",
   "execution_count": 22,
   "metadata": {},
   "outputs": [
    {
     "data": {
      "text/plain": [
       "[(85, [u'2015-03-30', u'1:55 PM', u'85', u'81', u'7', u'9648.24']),\n",
       " (77, [u'2015-03-30', u'9:34 PM', u'77', u'81', u'5', u'7798.28']),\n",
       " (82, [u'2015-03-30', u'3:40 AM', u'82', u'81', u'6', u'3665.45']),\n",
       " (47, [u'2015-03-30', u'10:39 PM', u'47', u'81', u'10', u'1122.89']),\n",
       " (16, [u'2015-03-30', u'11:02 AM', u'16', u'81', u'9', u'9063.74']),\n",
       " (10, [u'2015-03-30', u'2:54 PM', u'10', u'81', u'10', u'9897.61'])]"
      ]
     },
     "execution_count": 22,
     "metadata": {},
     "output_type": "execute_result"
    }
   ],
   "source": [
    "rdd_trans_by_cust.filter(lambda t: isMultipleDictBought(t[1])).take(10)"
   ]
  },
  {
   "cell_type": "code",
   "execution_count": 23,
   "metadata": {
    "collapsed": true
   },
   "outputs": [],
   "source": [
    "def addToothBrush(tran):\n",
    "    if isMultipleDictBought(tran):\n",
    "        from copy import copy\n",
    "        cloned_tran = copy(tran)\n",
    "        cloned_tran[5] = \"0.00\"\n",
    "        cloned_tran[3] = \"70\"\n",
    "        cloned_tran[4] = \"1\"\n",
    "        return [tran, cloned_tran]\n",
    "    else:\n",
    "        return [tran]"
   ]
  },
  {
   "cell_type": "markdown",
   "metadata": {},
   "source": [
    "#### flatMapValues : http://spark.apache.org/docs/2.1.0/api/python/pyspark.html#pyspark.RDD.flatMapValues"
   ]
  },
  {
   "cell_type": "code",
   "execution_count": 24,
   "metadata": {
    "collapsed": true
   },
   "outputs": [],
   "source": [
    "rdd_trans_by_cust_with_comp = rdd_trans_by_cust.flatMapValues(lambda tran: addToothBrush(tran))"
   ]
  },
  {
   "cell_type": "code",
   "execution_count": 25,
   "metadata": {},
   "outputs": [
    {
     "data": {
      "text/plain": [
       "1006"
      ]
     },
     "execution_count": 25,
     "metadata": {},
     "output_type": "execute_result"
    }
   ],
   "source": [
    "rdd_trans_by_cust_with_comp.count()"
   ]
  },
  {
   "cell_type": "code",
   "execution_count": 26,
   "metadata": {},
   "outputs": [
    {
     "data": {
      "text/plain": [
       "[(85, [u'2015-03-30', u'1:55 PM', u'85', u'81', u'7', u'9648.24']),\n",
       " (77, [u'2015-03-30', u'9:34 PM', u'77', u'81', u'5', u'7798.28']),\n",
       " (82, [u'2015-03-30', u'3:40 AM', u'82', u'81', u'6', u'3665.45']),\n",
       " (47, [u'2015-03-30', u'10:39 PM', u'47', u'81', u'10', u'1122.89']),\n",
       " (16, [u'2015-03-30', u'11:02 AM', u'16', u'81', u'9', u'9063.74']),\n",
       " (10, [u'2015-03-30', u'2:54 PM', u'10', u'81', u'10', u'9897.61'])]"
      ]
     },
     "execution_count": 26,
     "metadata": {},
     "output_type": "execute_result"
    }
   ],
   "source": [
    "rdd_trans_by_cust_with_comp.filter(lambda t: isMultipleDictBought(t[1])).take(10)"
   ]
  },
  {
   "cell_type": "code",
   "execution_count": 27,
   "metadata": {
    "collapsed": true
   },
   "outputs": [],
   "source": [
    "def isCompToothBrush(tran):\n",
    "    return int(tran[3]) == 70 and float(tran[5]) == 0.0"
   ]
  },
  {
   "cell_type": "code",
   "execution_count": 28,
   "metadata": {},
   "outputs": [
    {
     "data": {
      "text/plain": [
       "[(85, [u'2015-03-30', u'1:55 PM', u'85', '70', '1', '0.00']),\n",
       " (77, [u'2015-03-30', u'9:34 PM', u'77', '70', '1', '0.00']),\n",
       " (82, [u'2015-03-30', u'3:40 AM', u'82', '70', '1', '0.00']),\n",
       " (47, [u'2015-03-30', u'10:39 PM', u'47', '70', '1', '0.00']),\n",
       " (16, [u'2015-03-30', u'11:02 AM', u'16', '70', '1', '0.00']),\n",
       " (10, [u'2015-03-30', u'2:54 PM', u'10', '70', '1', '0.00'])]"
      ]
     },
     "execution_count": 28,
     "metadata": {},
     "output_type": "execute_result"
    }
   ],
   "source": [
    "rdd_trans_by_cust_with_comp.filter(lambda t: isCompToothBrush(t[1])).take(10)"
   ]
  },
  {
   "cell_type": "markdown",
   "metadata": {},
   "source": [
    "## Give a pair of pajamas (ID 63) to the customer who spent the most over all"
   ]
  },
  {
   "cell_type": "code",
   "execution_count": 32,
   "metadata": {
    "collapsed": true
   },
   "outputs": [],
   "source": [
    "# First convert transaction amount to float\n",
    "rdd_amount_by_cust = rdd_trans_by_cust_with_comp.mapValues(lambda tran: float(tran[5]))"
   ]
  },
  {
   "cell_type": "code",
   "execution_count": 33,
   "metadata": {},
   "outputs": [
    {
     "data": {
      "text/plain": [
       "[(51, 9506.21), (99, 4107.59), (79, 2987.22), (51, 7501.89), (86, 8370.2)]"
      ]
     },
     "execution_count": 33,
     "metadata": {},
     "output_type": "execute_result"
    }
   ],
   "source": [
    "rdd_amount_by_cust.take(5)"
   ]
  },
  {
   "cell_type": "markdown",
   "metadata": {},
   "source": [
    "### [foldByKey](http://spark.apache.org/docs/2.1.0/api/python/pyspark.html#pyspark.RDD.foldByKey)"
   ]
  },
  {
   "cell_type": "code",
   "execution_count": 34,
   "metadata": {
    "collapsed": true
   },
   "outputs": [],
   "source": [
    "l_total = rdd_amount_by_cust.foldByKey(0, lambda v1, v2: v1 + v2).collect()"
   ]
  },
  {
   "cell_type": "code",
   "execution_count": 35,
   "metadata": {},
   "outputs": [
    {
     "data": {
      "text/plain": [
       "100"
      ]
     },
     "execution_count": 35,
     "metadata": {},
     "output_type": "execute_result"
    }
   ],
   "source": [
    "len(l_total)"
   ]
  },
  {
   "cell_type": "code",
   "execution_count": 37,
   "metadata": {
    "collapsed": true
   },
   "outputs": [],
   "source": [
    "(cid, total) = sorted(l_total, key=lambda t: t[1], reverse=True)[0]"
   ]
  },
  {
   "cell_type": "code",
   "execution_count": 38,
   "metadata": {},
   "outputs": [
    {
     "data": {
      "text/plain": [
       "(76, 100049.0)"
      ]
     },
     "execution_count": 38,
     "metadata": {},
     "output_type": "execute_result"
    }
   ],
   "source": [
    "(cid, total)"
   ]
  },
  {
   "cell_type": "code",
   "execution_count": 46,
   "metadata": {
    "collapsed": true
   },
   "outputs": [],
   "source": [
    "l_total1 = rdd_amount_by_cust.reduceByKey(lambda v1, v2: v1 + v2).collect()\n",
    "from operator import add\n",
    "l_total1 = rdd_amount_by_cust.reduceByKey(add).collect()"
   ]
  },
  {
   "cell_type": "code",
   "execution_count": 47,
   "metadata": {},
   "outputs": [
    {
     "data": {
      "text/plain": [
       "100"
      ]
     },
     "execution_count": 47,
     "metadata": {},
     "output_type": "execute_result"
    }
   ],
   "source": [
    "len(l_total1)"
   ]
  },
  {
   "cell_type": "code",
   "execution_count": 49,
   "metadata": {
    "collapsed": true
   },
   "outputs": [],
   "source": [
    "(cid, total) = sorted(l_total1, key=lambda t: t[1], reverse=True)[0]"
   ]
  },
  {
   "cell_type": "code",
   "execution_count": 50,
   "metadata": {},
   "outputs": [
    {
     "data": {
      "text/plain": [
       "(76, 100049.0)"
      ]
     },
     "execution_count": 50,
     "metadata": {},
     "output_type": "execute_result"
    }
   ],
   "source": [
    "(cid, total)"
   ]
  },
  {
   "cell_type": "code",
   "execution_count": 53,
   "metadata": {
    "collapsed": true
   },
   "outputs": [],
   "source": [
    "# Complementary pajamas\n",
    "l_l_complTrans += [[\"2015-03-30\", \"11:59 PM\", \"76\", \"63\", \"1\", \"0.00\"]]"
   ]
  },
  {
   "cell_type": "markdown",
   "metadata": {},
   "source": [
    "### Add complementary transactions to original rdd and save it to a file\n",
    "### Comp trans could have been added using foldByKey() as done above but this is another method"
   ]
  },
  {
   "cell_type": "code",
   "execution_count": 54,
   "metadata": {},
   "outputs": [
    {
     "data": {
      "text/plain": [
       "[['2015-03-30', '11:59 PM', '53', '4', '1', '0.00'],\n",
       " ['2015-03-30', '11:59 PM', '76', '63', '1', '0.00']]"
      ]
     },
     "execution_count": 54,
     "metadata": {},
     "output_type": "execute_result"
    }
   ],
   "source": [
    "l_l_complTrans"
   ]
  },
  {
   "cell_type": "code",
   "execution_count": 55,
   "metadata": {
    "collapsed": true
   },
   "outputs": [],
   "source": [
    "# Create rdd from comp trans\n",
    "rdd_comp_trans = sc.parallelize(l_l_complTrans) \\\n",
    "                    .map(lambda tran: (int(tran[2]), tran))"
   ]
  },
  {
   "cell_type": "code",
   "execution_count": 56,
   "metadata": {},
   "outputs": [
    {
     "data": {
      "text/plain": [
       "[(53, ['2015-03-30', '11:59 PM', '53', '4', '1', '0.00']),\n",
       " (76, ['2015-03-30', '11:59 PM', '76', '63', '1', '0.00'])]"
      ]
     },
     "execution_count": 56,
     "metadata": {},
     "output_type": "execute_result"
    }
   ],
   "source": [
    "rdd_comp_trans.take(5)"
   ]
  },
  {
   "cell_type": "code",
   "execution_count": 57,
   "metadata": {
    "collapsed": true
   },
   "outputs": [],
   "source": [
    "rdd_final_trans_by_cust = rdd_trans_by_cust_with_comp.union(rdd_comp_trans)"
   ]
  },
  {
   "cell_type": "code",
   "execution_count": 58,
   "metadata": {},
   "outputs": [
    {
     "data": {
      "text/plain": [
       "1008"
      ]
     },
     "execution_count": 58,
     "metadata": {},
     "output_type": "execute_result"
    }
   ],
   "source": [
    "rdd_final_trans_by_cust.count()"
   ]
  },
  {
   "cell_type": "code",
   "execution_count": 60,
   "metadata": {
    "collapsed": true
   },
   "outputs": [],
   "source": [
    "# Save the rdd\n",
    "rdd_final_trans_by_cust.map(lambda t: '#'.join(t[1])).saveAsTextFile('dataOut/ch04_finaltransbycust')"
   ]
  },
  {
   "cell_type": "markdown",
   "metadata": {},
   "source": [
    "## List of all products purchased by each customer\n",
    "### [aggregateByKey](http://spark.apache.org/docs/2.1.0/api/python/pyspark.html#pyspark.RDD.aggregateByKey)"
   ]
  },
  {
   "cell_type": "code",
   "execution_count": 64,
   "metadata": {
    "collapsed": true
   },
   "outputs": [],
   "source": [
    "rdd_prodId = rdd_trans_by_cust.aggregateByKey([],\n",
    "                                              lambda l_prodId, tran: l_prodId + [tran[3]],\n",
    "                                              lambda l_prodId1, l_prodId2: l_prodId1 + l_prodId2,\n",
    "                                              2\n",
    "                                             )"
   ]
  },
  {
   "cell_type": "code",
   "execution_count": 65,
   "metadata": {},
   "outputs": [
    {
     "data": {
      "text/plain": [
       "100"
      ]
     },
     "execution_count": 65,
     "metadata": {},
     "output_type": "execute_result"
    }
   ],
   "source": [
    "rdd_prodId.count()"
   ]
  },
  {
   "cell_type": "code",
   "execution_count": 66,
   "metadata": {},
   "outputs": [
    {
     "data": {
      "text/plain": [
       "[(2,\n",
       "  [u'5',\n",
       "   u'49',\n",
       "   u'64',\n",
       "   u'48',\n",
       "   u'1',\n",
       "   u'53',\n",
       "   u'67',\n",
       "   u'48',\n",
       "   u'6',\n",
       "   u'65',\n",
       "   u'31',\n",
       "   u'15',\n",
       "   u'60',\n",
       "   u'79',\n",
       "   u'74']),\n",
       " (4,\n",
       "  [u'16', u'86', u'19', u'49', u'99', u'2', u'94', u'35', u'4', u'10', u'7']),\n",
       " (6, [u'90', u'47', u'38', u'15', u'55', u'28', u'51']),\n",
       " (8, [u'35', u'93', u'45', u'92', u'65', u'65', u'93', u'84', u'44', u'22']),\n",
       " (10, [u'1', u'36', u'83', u'17', u'46', u'30', u'81'])]"
      ]
     },
     "execution_count": 66,
     "metadata": {},
     "output_type": "execute_result"
    }
   ],
   "source": [
    "rdd_prodId.take(5)"
   ]
  },
  {
   "cell_type": "markdown",
   "metadata": {},
   "source": [
    "## 4.2\n",
    "### rdd partition count\n",
    "#### http://spark.apache.org/docs/2.1.0/api/python/pyspark.html#pyspark.RDD.getNumPartitions"
   ]
  },
  {
   "cell_type": "code",
   "execution_count": 75,
   "metadata": {},
   "outputs": [
    {
     "data": {
      "text/plain": [
       "2"
      ]
     },
     "execution_count": 75,
     "metadata": {},
     "output_type": "execute_result"
    }
   ],
   "source": [
    "rdd_trans_by_cust.getNumPartitions()"
   ]
  },
  {
   "cell_type": "markdown",
   "metadata": {},
   "source": [
    "## 4.2.2"
   ]
  },
  {
   "cell_type": "code",
   "execution_count": 90,
   "metadata": {},
   "outputs": [
    {
     "data": {
      "text/plain": [
       "8"
      ]
     },
     "execution_count": 90,
     "metadata": {},
     "output_type": "execute_result"
    }
   ],
   "source": [
    "rdd1 = sc.parallelize(range(10000))\n",
    "rdd1.getNumPartitions()"
   ]
  },
  {
   "cell_type": "code",
   "execution_count": 92,
   "metadata": {},
   "outputs": [
    {
     "data": {
      "text/plain": [
       "[(0, 0),\n",
       " (1, 1),\n",
       " (4, 2),\n",
       " (9, 3),\n",
       " (16, 4),\n",
       " (25, 5),\n",
       " (36, 6),\n",
       " (49, 7),\n",
       " (64, 8),\n",
       " (81, 9)]"
      ]
     },
     "execution_count": 92,
     "metadata": {},
     "output_type": "execute_result"
    }
   ],
   "source": [
    "# This won't cause a shuffle\n",
    "rdd1.map(lambda x: (x, x*x)).map(lambda (k, v): (v, k)).take(10)"
   ]
  },
  {
   "cell_type": "code",
   "execution_count": 93,
   "metadata": {},
   "outputs": [
    {
     "data": {
      "text/plain": [
       "[(0, 0),\n",
       " (2048, 4194304),\n",
       " (9288, 86266944),\n",
       " (5592, 31270464),\n",
       " (9752, 95101504),\n",
       " (8, 64),\n",
       " (9816, 96353856),\n",
       " (8320, 69222400),\n",
       " (7024, 49336576),\n",
       " (6888, 47444544)]"
      ]
     },
     "execution_count": 93,
     "metadata": {},
     "output_type": "execute_result"
    }
   ],
   "source": [
    "# reduceByKey() causes shuffle\n",
    "rdd1.map(lambda x: (x, x*x)).reduceByKey(lambda (v1, v2): v1 + v2).take(10)"
   ]
  },
  {
   "cell_type": "markdown",
   "metadata": {},
   "source": [
    "## 4.2.4"
   ]
  },
  {
   "cell_type": "code",
   "execution_count": 94,
   "metadata": {
    "collapsed": true
   },
   "outputs": [],
   "source": [
    "import random\n",
    "l = [random.randrange(100) for x in range(500)]"
   ]
  },
  {
   "cell_type": "code",
   "execution_count": 95,
   "metadata": {
    "collapsed": true
   },
   "outputs": [],
   "source": [
    "rdd2 = sc.parallelize(l, 30)"
   ]
  },
  {
   "cell_type": "code",
   "execution_count": 96,
   "metadata": {},
   "outputs": [
    {
     "data": {
      "text/plain": [
       "[88, 24, 95, 49, 65, 12, 6, 37, 50, 38]"
      ]
     },
     "execution_count": 96,
     "metadata": {},
     "output_type": "execute_result"
    }
   ],
   "source": [
    "rdd2.take(10)"
   ]
  },
  {
   "cell_type": "code",
   "execution_count": 97,
   "metadata": {},
   "outputs": [
    {
     "data": {
      "text/plain": [
       "30"
      ]
     },
     "execution_count": 97,
     "metadata": {},
     "output_type": "execute_result"
    }
   ],
   "source": [
    "rdd2.getNumPartitions()"
   ]
  },
  {
   "cell_type": "markdown",
   "metadata": {},
   "source": [
    "#### glom (the word means to grab) gathers elements of each partition into an array and returns a new RDD with those arrays as elements. The number of elements in the new RDD is equal to the number of its partitions. The partitioner is removed in the process."
   ]
  },
  {
   "cell_type": "code",
   "execution_count": 98,
   "metadata": {
    "collapsed": true
   },
   "outputs": [],
   "source": [
    "rdd3 = rdd2.glom()"
   ]
  },
  {
   "cell_type": "code",
   "execution_count": 99,
   "metadata": {},
   "outputs": [
    {
     "data": {
      "text/plain": [
       "[[88, 24, 95, 49, 65, 12, 6, 37, 50, 38, 68, 66, 77, 27, 69, 3],\n",
       " [31, 8, 55, 1, 7, 63, 85, 13, 55, 45, 20, 59, 94, 41, 91, 44],\n",
       " [79, 75, 18, 17, 12, 80, 97, 80, 21, 99, 91, 73, 17, 16, 63, 2],\n",
       " [98, 94, 9, 16, 14, 42, 73, 10, 98, 77, 90, 90, 6, 88, 99, 25],\n",
       " [68, 19, 48, 85, 48, 40, 35, 79, 65, 67, 65, 7, 94, 74, 19, 65],\n",
       " [20, 51, 49, 26, 64, 55, 6, 70, 37, 3, 2, 49, 81, 8, 14, 43],\n",
       " [99, 31, 82, 70, 55, 1, 28, 39, 92, 69, 11, 93, 44, 94, 69, 13],\n",
       " [22, 13, 88, 95, 39, 36, 22, 29, 72, 76, 79, 45, 19, 92, 49, 2],\n",
       " [81, 86, 38, 14, 2, 2, 90, 95, 67, 79, 61, 80, 75, 39, 41, 23],\n",
       " [64, 81, 72, 46, 76, 99, 76, 36, 91, 52, 76, 72, 18, 56, 57, 66]]"
      ]
     },
     "execution_count": 99,
     "metadata": {},
     "output_type": "execute_result"
    }
   ],
   "source": [
    "rdd3.take(10)"
   ]
  },
  {
   "cell_type": "code",
   "execution_count": 100,
   "metadata": {},
   "outputs": [
    {
     "data": {
      "text/plain": [
       "30"
      ]
     },
     "execution_count": 100,
     "metadata": {},
     "output_type": "execute_result"
    }
   ],
   "source": [
    "rdd3.count()"
   ]
  },
  {
   "cell_type": "markdown",
   "metadata": {},
   "source": [
    "## 4.3.1 Joining data"
   ]
  },
  {
   "cell_type": "markdown",
   "metadata": {},
   "source": [
    "### names of products with totals sold, sorted alphabetically"
   ]
  },
  {
   "cell_type": "code",
   "execution_count": 101,
   "metadata": {},
   "outputs": [
    {
     "data": {
      "text/plain": [
       "[[u'2015-03-30', u'6:55 AM', u'51', u'68', u'1', u'9506.21'],\n",
       " [u'2015-03-30', u'7:39 PM', u'99', u'86', u'5', u'4107.59'],\n",
       " [u'2015-03-30', u'11:57 AM', u'79', u'58', u'7', u'2987.22'],\n",
       " [u'2015-03-30', u'12:46 AM', u'51', u'50', u'6', u'7501.89'],\n",
       " [u'2015-03-30', u'11:39 AM', u'86', u'24', u'5', u'8370.2']]"
      ]
     },
     "execution_count": 101,
     "metadata": {},
     "output_type": "execute_result"
    }
   ],
   "source": [
    "rdd_trans_data.take(5)"
   ]
  },
  {
   "cell_type": "code",
   "execution_count": 104,
   "metadata": {
    "collapsed": true
   },
   "outputs": [],
   "source": [
    "rdd_prod_by_trans = rdd_trans_data.map(lambda trans: (int(trans[3]), trans))"
   ]
  },
  {
   "cell_type": "code",
   "execution_count": 109,
   "metadata": {},
   "outputs": [
    {
     "data": {
      "text/plain": [
       "[(68, [u'2015-03-30', u'6:55 AM', u'51', u'68', u'1', u'9506.21']),\n",
       " (86, [u'2015-03-30', u'7:39 PM', u'99', u'86', u'5', u'4107.59']),\n",
       " (58, [u'2015-03-30', u'11:57 AM', u'79', u'58', u'7', u'2987.22']),\n",
       " (50, [u'2015-03-30', u'12:46 AM', u'51', u'50', u'6', u'7501.89']),\n",
       " (24, [u'2015-03-30', u'11:39 AM', u'86', u'24', u'5', u'8370.2'])]"
      ]
     },
     "execution_count": 109,
     "metadata": {},
     "output_type": "execute_result"
    }
   ],
   "source": [
    "rdd_prod_by_trans.take(5)"
   ]
  },
  {
   "cell_type": "code",
   "execution_count": 122,
   "metadata": {},
   "outputs": [
    {
     "data": {
      "text/plain": [
       "[(2, 27613.84),\n",
       " (4, 63520.21000000001),\n",
       " (6, 43252.97),\n",
       " (8, 43761.869999999995),\n",
       " (10, 47085.59)]"
      ]
     },
     "execution_count": 122,
     "metadata": {},
     "output_type": "execute_result"
    }
   ],
   "source": [
    "from operator import add\n",
    "rdd_totals_per_prod = rdd_prod_by_trans \\\n",
    "                        .mapValues(lambda trans: float(trans[5])) \\\n",
    "                        .reduceByKey(add)\n",
    "\n",
    "rdd_totals_per_prod.take(5)"
   ]
  },
  {
   "cell_type": "code",
   "execution_count": 125,
   "metadata": {},
   "outputs": [
    {
     "data": {
      "text/plain": [
       "[(1,\n",
       "  [u'1', u'ROBITUSSIN PEAK COLD NIGHTTIME COLD PLUS FLU', u'9721.89', u'10']),\n",
       " (2, [u'2', u'Mattel Little Mommy Doctor Doll', u'6060.78', u'6']),\n",
       " (3, [u'3', u'Cute baby doll, battery', u'1808.79', u'2']),\n",
       " (4, [u'4', u'Bear doll', u'51.06', u'6']),\n",
       " (5, [u'5', u'LEGO Legends of Chima', u'849.36', u'6'])]"
      ]
     },
     "execution_count": 125,
     "metadata": {},
     "output_type": "execute_result"
    }
   ],
   "source": [
    "rdd_prodid_by_prod = sc.textFile('dataIn/ch04_data_products.txt').map(lambda p: p.split('#')).map(lambda prod: (int(prod[0]), prod))\n",
    "rdd_prodid_by_prod.take(5)"
   ]
  },
  {
   "cell_type": "markdown",
   "metadata": {},
   "source": [
    "#### Join : http://spark.apache.org/docs/2.1.0/api/python/pyspark.html#pyspark.RDD.join"
   ]
  },
  {
   "cell_type": "code",
   "execution_count": 126,
   "metadata": {},
   "outputs": [
    {
     "data": {
      "text/plain": [
       "[(4, (63520.21000000001, [u'4', u'Bear doll', u'51.06', u'6'])),\n",
       " (8, (43761.869999999995, [u'8', u'LEGO Star Wars', u'7592.44', u'4'])),\n",
       " (12, (45396.11, [u'12', u'LEGO Hero Factory', u'6911.2', u'1'])),\n",
       " (16, (46664.43000000001, [u'16', u'LEGO Classic', u'9933.3', u'10'])),\n",
       " (24, (46973.67, [u'24', u'LEGO Pirates', u'4150.34', u'2']))]"
      ]
     },
     "execution_count": 126,
     "metadata": {},
     "output_type": "execute_result"
    }
   ],
   "source": [
    "rdd_prodid_by_prod_totals = rdd_totals_per_prod.join(rdd_prodid_by_prod)\n",
    "rdd_prodid_by_prod_totals.take(5)"
   ]
  },
  {
   "cell_type": "code",
   "execution_count": 129,
   "metadata": {},
   "outputs": [
    {
     "data": {
      "text/plain": [
       "[(u'Bear doll', 63520.21000000001),\n",
       " (u'LEGO Star Wars', 43761.869999999995),\n",
       " (u'LEGO Hero Factory', 45396.11),\n",
       " (u'LEGO Classic', 46664.43000000001),\n",
       " (u'LEGO Pirates', 46973.67)]"
      ]
     },
     "execution_count": 129,
     "metadata": {},
     "output_type": "execute_result"
    }
   ],
   "source": [
    "rdd_prod_name_by_totals_sold = rdd_prodid_by_prod_totals \\\n",
    "                                .mapValues(lambda prod: (prod[1][1], prod[0])) \\\n",
    "                                .map(lambda prod: (prod[1][0], prod[1][1]))\n",
    "rdd_prod_name_by_totals_sold.take(5)"
   ]
  },
  {
   "cell_type": "code",
   "execution_count": 130,
   "metadata": {},
   "outputs": [
    {
     "data": {
      "text/plain": [
       "[(u'AMBROSIA TRIFIDA POLLEN', 48601.89),\n",
       " (u'ATOPALM MUSCLE AND JOINT', 31049.07),\n",
       " (u'Acyclovir', 26047.72),\n",
       " (u'Alphanate', 50917.700000000004),\n",
       " (u'Ativan', 31498.84),\n",
       " (u'Barbie Beach Ken Doll', 60695.88),\n",
       " (u'Barbie Bedtime Princess Doll', 38850.68),\n",
       " (u'Barbie Shopping Mall Playset', 60353.25),\n",
       " (u'Bear doll', 63520.21000000001),\n",
       " (u'Brimonidine Tartrate', 59283.19),\n",
       " (u'Bronchitis', 50433.88),\n",
       " (u'CUPRUM METALLICUM', 34805.73),\n",
       " (u'CVS', 32156.14),\n",
       " (u'Caldyphen Clear', 56677.71000000001),\n",
       " (u'Childrens Non-Drowsy', 16470.08),\n",
       " (u'Cosopt', 43765.64),\n",
       " (u'Cyanocobalamin', 75192.53),\n",
       " (u'Dictionary', 66420.93),\n",
       " (u'Disposable diapers', 68147.48000000001),\n",
       " (u'Essentials Crash Tag Team Racing PSP', 57708.119999999995),\n",
       " (u'Essentials Dantes Inferno PSP', 37302.96),\n",
       " (u'Essentials Medal of Honor: Heroes 2 PSP', 20736.739999999998),\n",
       " (u'Essentials Tekken 6 PS3', 57313.90000000001),\n",
       " (u'Far Cry 4 Limited Edition for Xbox One', 82055.45999999999),\n",
       " (u'GAM X360  Dead Space 3 Limited Edition', 30427.82),\n",
       " (u'GAM X360 Assassins Creed 3', 62592.43000000001),\n",
       " (u'GAM X360 Hitman Absolution X360', 31636.440000000002),\n",
       " (u'GAM X360 Need for Speed Most Wanted 2012', 45715.700000000004),\n",
       " (u'GUNA-EGF', 57093.47),\n",
       " (u'Gabapentin', 51227.19),\n",
       " (u'Glipizide', 79808.08),\n",
       " (u'Grippe', 25839.77),\n",
       " (u'Intel Core i3 3220', 52398.95),\n",
       " (u'Intel Core i5 3330', 25118.019999999997),\n",
       " (u'Intel Core i5 3570', 75445.76999999999),\n",
       " (u'Intel Core i7 3770K', 34104.55),\n",
       " (u'Jafra', 91335.4),\n",
       " (u'Jantoven', 86316.57),\n",
       " (u'LEGO Architecture', 63779.96),\n",
       " (u'LEGO Bionicle', 56750.990000000005),\n",
       " (u'LEGO Castle', 43252.97),\n",
       " (u'LEGO Classic', 46664.43000000001),\n",
       " (u'LEGO Galaxy Squad', 47265.86),\n",
       " (u'LEGO Hero Factory', 45396.11),\n",
       " (u'LEGO Jurassic World', 947.76),\n",
       " (u'LEGO Legends of Chima', 41753.85),\n",
       " (u'LEGO Lord of the Rings', 45286.280000000006),\n",
       " (u'LEGO Mindstorms', 36973.270000000004),\n",
       " (u'LEGO Minecraft', 64525.34),\n",
       " (u'LEGO Minifigures', 46486.0),\n",
       " (u'LEGO Mixels', 74330.11),\n",
       " (u'LEGO Pirates', 46973.67),\n",
       " (u'LEGO Speed Champion', 76892.02),\n",
       " (u'LEGO Star Wars', 43761.869999999995),\n",
       " (u'LEGO Storage & Accessories', 49231.85),\n",
       " (u'LEGO Technic', 53709.75),\n",
       " (u'LEGO The Hobbit', 47085.59),\n",
       " (u'LG LED TV 32LN5400', 26855.230000000003),\n",
       " (u'LG LED TV 32LN575S', 61318.78),\n",
       " (u'LG LED TV 42LA6130', 50163.71),\n",
       " (u'Levalbuterol Hydrochloride', 42600.91),\n",
       " (u'Lisinopril', 63754.63),\n",
       " (u'Mattel Little Mommy Doctor Doll', 27613.84),\n",
       " (u'Medal Of Honor Allied Assault War Chest PC', 18773.99),\n",
       " (u'Might and Magic: Clash Of Heroes PC', 29685.05),\n",
       " (u'Minoxidil', 43543.5),\n",
       " (u'Niacin', 62133.899999999994),\n",
       " (u'Notebook Lenovo E545 20B2000KSC', 65796.9),\n",
       " (u'Notebook Lenovo U330p, 59-390439', 186539.8),\n",
       " (u'Notebook Lenovo U430p, 59-390459', 85557.16),\n",
       " (u'Notebook Lenovo Yoga Think, 20CD0001SC', 34017.57),\n",
       " (u'Obao', 38525.81),\n",
       " (u'PC HP 490PD MT, D5T60EA', 67463.17),\n",
       " (u'PC HP 490PD MT, D5T62EA', 54251.83),\n",
       " (u'PC HP 490PD MT, D5T68EA', 46011.79),\n",
       " (u'PC HP 600PD TWR, E7P49AW', 61734.74),\n",
       " (u'Phentermine Hydrochloride', 39110.72),\n",
       " (u'Procesor Intel Core i5 3470', 68464.77000000002),\n",
       " (u'ROBITUSSIN PEAK COLD NIGHTTIME COLD PLUS FLU', 89434.73000000001),\n",
       " (u'Roller Derby Roller Street Series Skateboard Bruiser', 58670.57000000001),\n",
       " (u'SAMSUNG LED TV 32F4510, HD ready, USB', 50313.89),\n",
       " (u'SAMSUNG LED TV 39F5500, Full HD, USB', 128743.52),\n",
       " (u'SAMSUNG LED TV 42F5300, Full HD, USB', 49494.53999999999),\n",
       " (u'SAMSUNG LED TV 55F6500, Full HD, 3D, USB', 23534.230000000003),\n",
       " (u'Santalia Clinical Intenstive Spot Treatment', 49245.05),\n",
       " (u'Scrub Care Povidone Iodine Cleansing Scrub', 59612.96),\n",
       " (u'Sony Playstation 3', 55719.08000000001),\n",
       " (u'Star Wars Republic Commando PC', 41679.19),\n",
       " (u'Star Wars The Force Unleashed Ultimate Sith Edition PC',\n",
       "  31321.149999999998),\n",
       " (u'Stomach Disorders', 39755.84),\n",
       " (u'Toothbrush', 27855.89),\n",
       " (u'Treatment Set TS332287', 40571.759999999995),\n",
       " (u'ZOCOR', 50775.009999999995),\n",
       " (u'chest congestion', 73536.78),\n",
       " (u'healthy accents sinus', 46411.33),\n",
       " (u'ibuprofen', 76108.16999999998)]"
      ]
     },
     "execution_count": 130,
     "metadata": {},
     "output_type": "execute_result"
    }
   ],
   "source": [
    "sorted(rdd_prod_name_by_totals_sold.collect(), key=lambda p: p[0])"
   ]
  },
  {
   "cell_type": "code",
   "execution_count": 131,
   "metadata": {},
   "outputs": [
    {
     "data": {
      "text/plain": [
       "(u'Notebook Lenovo U330p, 59-390439', 186539.8)"
      ]
     },
     "execution_count": 131,
     "metadata": {},
     "output_type": "execute_result"
    }
   ],
   "source": [
    "sorted(rdd_prod_name_by_totals_sold.collect(), key=lambda p: p[1], reverse=True)[0]"
   ]
  },
  {
   "cell_type": "code",
   "execution_count": 165,
   "metadata": {},
   "outputs": [
    {
     "data": {
      "text/plain": [
       "[(u'Notebook Lenovo U330p, 59-390439', 186539.8)]"
      ]
     },
     "execution_count": 165,
     "metadata": {},
     "output_type": "execute_result"
    }
   ],
   "source": [
    "rdd_prod_name_by_totals_sold.top(1, key=lambda p: p[1])"
   ]
  },
  {
   "cell_type": "markdown",
   "metadata": {},
   "source": [
    "### a list of products the company didn’t sell yesterday"
   ]
  },
  {
   "cell_type": "markdown",
   "metadata": {},
   "source": [
    "#### 1. use leftOurJoin or rightOuterJoin"
   ]
  },
  {
   "cell_type": "code",
   "execution_count": 136,
   "metadata": {},
   "outputs": [
    {
     "data": {
      "text/plain": [
       "[(20, u'LEGO Elves'),\n",
       " (3, u'Cute baby doll, battery'),\n",
       " (43, u'Tomb Raider PC'),\n",
       " (63, u'Pajamas')]"
      ]
     },
     "execution_count": 136,
     "metadata": {},
     "output_type": "execute_result"
    }
   ],
   "source": [
    "rdd_products_not_sold = rdd_prodid_by_prod \\\n",
    "                            .leftOuterJoin(rdd_totals_per_prod) \\\n",
    "                            .filter(lambda p: p[1][1] is None) \\\n",
    "                            .mapValues(lambda prod: prod[0][1])\n",
    "rdd_products_not_sold.take(5)"
   ]
  },
  {
   "cell_type": "markdown",
   "metadata": {},
   "source": [
    "#### 2. use subtractByKey"
   ]
  },
  {
   "cell_type": "code",
   "execution_count": 140,
   "metadata": {},
   "outputs": [
    {
     "data": {
      "text/plain": [
       "[(20, u'LEGO Elves'),\n",
       " (3, u'Cute baby doll, battery'),\n",
       " (43, u'Tomb Raider PC'),\n",
       " (63, u'Pajamas')]"
      ]
     },
     "execution_count": 140,
     "metadata": {},
     "output_type": "execute_result"
    }
   ],
   "source": [
    "rdd_products_not_sold = rdd_prodid_by_prod \\\n",
    "                            .subtractByKey(rdd_totals_per_prod) \\\n",
    "                            .mapValues(lambda prod: prod[1])\n",
    "rdd_products_not_sold.take(5)"
   ]
  },
  {
   "cell_type": "markdown",
   "metadata": {},
   "source": [
    "#### 3. use cogroup"
   ]
  },
  {
   "cell_type": "code",
   "execution_count": 149,
   "metadata": {},
   "outputs": [
    {
     "data": {
      "text/plain": [
       "[(20, u'LEGO Elves'),\n",
       " (3, u'Cute baby doll, battery'),\n",
       " (43, u'Tomb Raider PC'),\n",
       " (63, u'Pajamas')]"
      ]
     },
     "execution_count": 149,
     "metadata": {},
     "output_type": "execute_result"
    }
   ],
   "source": [
    "rdd_products_not_sold = rdd_totals_per_prod \\\n",
    "                            .cogroup(rdd_prodid_by_prod) \\\n",
    "                            .filter(lambda p: len(p[1][0].data) == 0) \\\n",
    "                            .mapValues(lambda itrs: itrs[1].data[0][1])\n",
    "rdd_products_not_sold.take(5)"
   ]
  },
  {
   "cell_type": "markdown",
   "metadata": {},
   "source": [
    "#### intersection"
   ]
  },
  {
   "cell_type": "code",
   "execution_count": 152,
   "metadata": {},
   "outputs": [
    {
     "data": {
      "text/plain": [
       "[1, 2, 3]"
      ]
     },
     "execution_count": 152,
     "metadata": {},
     "output_type": "execute_result"
    }
   ],
   "source": [
    "rdd1 = sc.parallelize([1, 1, 2, 3, 4, 5])\n",
    "rdd2 = sc.parallelize([1, 2, 2, 3, 6])\n",
    "rdd1.intersection(rdd2).collect()"
   ]
  },
  {
   "cell_type": "code",
   "execution_count": 153,
   "metadata": {},
   "outputs": [
    {
     "data": {
      "text/plain": [
       "[1, 2, 3]"
      ]
     },
     "execution_count": 153,
     "metadata": {},
     "output_type": "execute_result"
    }
   ],
   "source": [
    "rdd2.intersection(rdd1).collect()"
   ]
  },
  {
   "cell_type": "markdown",
   "metadata": {},
   "source": [
    "#### cartesian"
   ]
  },
  {
   "cell_type": "code",
   "execution_count": 154,
   "metadata": {},
   "outputs": [
    {
     "data": {
      "text/plain": [
       "[(1, 1),\n",
       " (1, 2),\n",
       " (1, 2),\n",
       " (1, 3),\n",
       " (1, 6),\n",
       " (1, 1),\n",
       " (1, 2),\n",
       " (1, 2),\n",
       " (1, 3),\n",
       " (1, 6),\n",
       " (2, 1),\n",
       " (2, 2),\n",
       " (2, 2),\n",
       " (2, 3),\n",
       " (2, 6),\n",
       " (3, 1),\n",
       " (3, 2),\n",
       " (3, 2),\n",
       " (3, 3),\n",
       " (3, 6)]"
      ]
     },
     "execution_count": 154,
     "metadata": {},
     "output_type": "execute_result"
    }
   ],
   "source": [
    "rdd1 = sc.parallelize([1, 1, 2, 3,])\n",
    "rdd2 = sc.parallelize([1, 2, 2, 3, 6])\n",
    "rdd1.cartesian(rdd2).collect()"
   ]
  },
  {
   "cell_type": "markdown",
   "metadata": {},
   "source": [
    "#### zip"
   ]
  },
  {
   "cell_type": "code",
   "execution_count": 158,
   "metadata": {},
   "outputs": [
    {
     "data": {
      "text/plain": [
       "[(1, 'n4'), (2, 'n5'), (3, 'n6')]"
      ]
     },
     "execution_count": 158,
     "metadata": {},
     "output_type": "execute_result"
    }
   ],
   "source": [
    "rdd1 = sc.parallelize([1,2,3])\n",
    "rdd2 = sc.parallelize([\"n4\",\"n5\",\"n6\"])\n",
    "rdd1.zip(rdd2).collect()"
   ]
  },
  {
   "cell_type": "markdown",
   "metadata": {},
   "source": [
    "### 4.3.2 Sorting"
   ]
  },
  {
   "cell_type": "markdown",
   "metadata": {},
   "source": [
    "#### http://spark.apache.org/docs/2.1.0/api/python/pyspark.html#pyspark.RDD.sortBy\n",
    "#### http://spark.apache.org/docs/2.1.0/api/python/pyspark.html#pyspark.RDD.sortByKey"
   ]
  },
  {
   "cell_type": "code",
   "execution_count": 156,
   "metadata": {},
   "outputs": [
    {
     "data": {
      "text/plain": [
       "[(u'AMBROSIA TRIFIDA POLLEN', 48601.89),\n",
       " (u'ATOPALM MUSCLE AND JOINT', 31049.07),\n",
       " (u'Acyclovir', 26047.72),\n",
       " (u'Alphanate', 50917.700000000004),\n",
       " (u'Ativan', 31498.84),\n",
       " (u'Barbie Beach Ken Doll', 60695.88),\n",
       " (u'Barbie Bedtime Princess Doll', 38850.68),\n",
       " (u'Barbie Shopping Mall Playset', 60353.25),\n",
       " (u'Bear doll', 63520.21000000001),\n",
       " (u'Brimonidine Tartrate', 59283.19),\n",
       " (u'Bronchitis', 50433.88),\n",
       " (u'CUPRUM METALLICUM', 34805.73),\n",
       " (u'CVS', 32156.14),\n",
       " (u'Caldyphen Clear', 56677.71000000001),\n",
       " (u'Childrens Non-Drowsy', 16470.08),\n",
       " (u'Cosopt', 43765.64),\n",
       " (u'Cyanocobalamin', 75192.53),\n",
       " (u'Dictionary', 66420.93),\n",
       " (u'Disposable diapers', 68147.48000000001),\n",
       " (u'Essentials Crash Tag Team Racing PSP', 57708.119999999995),\n",
       " (u'Essentials Dantes Inferno PSP', 37302.96),\n",
       " (u'Essentials Medal of Honor: Heroes 2 PSP', 20736.739999999998),\n",
       " (u'Essentials Tekken 6 PS3', 57313.90000000001),\n",
       " (u'Far Cry 4 Limited Edition for Xbox One', 82055.45999999999),\n",
       " (u'GAM X360  Dead Space 3 Limited Edition', 30427.82),\n",
       " (u'GAM X360 Assassins Creed 3', 62592.43000000001),\n",
       " (u'GAM X360 Hitman Absolution X360', 31636.440000000002),\n",
       " (u'GAM X360 Need for Speed Most Wanted 2012', 45715.700000000004),\n",
       " (u'GUNA-EGF', 57093.47),\n",
       " (u'Gabapentin', 51227.19),\n",
       " (u'Glipizide', 79808.08),\n",
       " (u'Grippe', 25839.77),\n",
       " (u'Intel Core i3 3220', 52398.95),\n",
       " (u'Intel Core i5 3330', 25118.019999999997),\n",
       " (u'Intel Core i5 3570', 75445.76999999999),\n",
       " (u'Intel Core i7 3770K', 34104.55),\n",
       " (u'Jafra', 91335.4),\n",
       " (u'Jantoven', 86316.57),\n",
       " (u'LEGO Architecture', 63779.96),\n",
       " (u'LEGO Bionicle', 56750.990000000005),\n",
       " (u'LEGO Castle', 43252.97),\n",
       " (u'LEGO Classic', 46664.43000000001),\n",
       " (u'LEGO Galaxy Squad', 47265.86),\n",
       " (u'LEGO Hero Factory', 45396.11),\n",
       " (u'LEGO Jurassic World', 947.76),\n",
       " (u'LEGO Legends of Chima', 41753.85),\n",
       " (u'LEGO Lord of the Rings', 45286.280000000006),\n",
       " (u'LEGO Mindstorms', 36973.270000000004),\n",
       " (u'LEGO Minecraft', 64525.34),\n",
       " (u'LEGO Minifigures', 46486.0),\n",
       " (u'LEGO Mixels', 74330.11),\n",
       " (u'LEGO Pirates', 46973.67),\n",
       " (u'LEGO Speed Champion', 76892.02),\n",
       " (u'LEGO Star Wars', 43761.869999999995),\n",
       " (u'LEGO Storage & Accessories', 49231.85),\n",
       " (u'LEGO Technic', 53709.75),\n",
       " (u'LEGO The Hobbit', 47085.59),\n",
       " (u'LG LED TV 32LN5400', 26855.230000000003),\n",
       " (u'LG LED TV 32LN575S', 61318.78),\n",
       " (u'LG LED TV 42LA6130', 50163.71),\n",
       " (u'Levalbuterol Hydrochloride', 42600.91),\n",
       " (u'Lisinopril', 63754.63),\n",
       " (u'Mattel Little Mommy Doctor Doll', 27613.84),\n",
       " (u'Medal Of Honor Allied Assault War Chest PC', 18773.99),\n",
       " (u'Might and Magic: Clash Of Heroes PC', 29685.05),\n",
       " (u'Minoxidil', 43543.5),\n",
       " (u'Niacin', 62133.899999999994),\n",
       " (u'Notebook Lenovo E545 20B2000KSC', 65796.9),\n",
       " (u'Notebook Lenovo U330p, 59-390439', 186539.8),\n",
       " (u'Notebook Lenovo U430p, 59-390459', 85557.16),\n",
       " (u'Notebook Lenovo Yoga Think, 20CD0001SC', 34017.57),\n",
       " (u'Obao', 38525.81),\n",
       " (u'PC HP 490PD MT, D5T60EA', 67463.17),\n",
       " (u'PC HP 490PD MT, D5T62EA', 54251.83),\n",
       " (u'PC HP 490PD MT, D5T68EA', 46011.79),\n",
       " (u'PC HP 600PD TWR, E7P49AW', 61734.74),\n",
       " (u'Phentermine Hydrochloride', 39110.72),\n",
       " (u'Procesor Intel Core i5 3470', 68464.77000000002),\n",
       " (u'ROBITUSSIN PEAK COLD NIGHTTIME COLD PLUS FLU', 89434.73000000001),\n",
       " (u'Roller Derby Roller Street Series Skateboard Bruiser', 58670.57000000001),\n",
       " (u'SAMSUNG LED TV 32F4510, HD ready, USB', 50313.89),\n",
       " (u'SAMSUNG LED TV 39F5500, Full HD, USB', 128743.52),\n",
       " (u'SAMSUNG LED TV 42F5300, Full HD, USB', 49494.53999999999),\n",
       " (u'SAMSUNG LED TV 55F6500, Full HD, 3D, USB', 23534.230000000003),\n",
       " (u'Santalia Clinical Intenstive Spot Treatment', 49245.05),\n",
       " (u'Scrub Care Povidone Iodine Cleansing Scrub', 59612.96),\n",
       " (u'Sony Playstation 3', 55719.08000000001),\n",
       " (u'Star Wars Republic Commando PC', 41679.19),\n",
       " (u'Star Wars The Force Unleashed Ultimate Sith Edition PC',\n",
       "  31321.149999999998),\n",
       " (u'Stomach Disorders', 39755.84),\n",
       " (u'Toothbrush', 27855.89),\n",
       " (u'Treatment Set TS332287', 40571.759999999995),\n",
       " (u'ZOCOR', 50775.009999999995),\n",
       " (u'chest congestion', 73536.78),\n",
       " (u'healthy accents sinus', 46411.33),\n",
       " (u'ibuprofen', 76108.16999999998)]"
      ]
     },
     "execution_count": 156,
     "metadata": {},
     "output_type": "execute_result"
    }
   ],
   "source": [
    "rdd_prod_name_by_totals_sold.sortBy(lambda t: t[0]).collect()"
   ]
  },
  {
   "cell_type": "code",
   "execution_count": 157,
   "metadata": {},
   "outputs": [
    {
     "data": {
      "text/plain": [
       "[(u'AMBROSIA TRIFIDA POLLEN', 48601.89),\n",
       " (u'ATOPALM MUSCLE AND JOINT', 31049.07),\n",
       " (u'Acyclovir', 26047.72),\n",
       " (u'Alphanate', 50917.700000000004),\n",
       " (u'Ativan', 31498.84),\n",
       " (u'Barbie Beach Ken Doll', 60695.88),\n",
       " (u'Barbie Bedtime Princess Doll', 38850.68),\n",
       " (u'Barbie Shopping Mall Playset', 60353.25),\n",
       " (u'Bear doll', 63520.21000000001),\n",
       " (u'Brimonidine Tartrate', 59283.19),\n",
       " (u'Bronchitis', 50433.88),\n",
       " (u'CUPRUM METALLICUM', 34805.73),\n",
       " (u'CVS', 32156.14),\n",
       " (u'Caldyphen Clear', 56677.71000000001),\n",
       " (u'Childrens Non-Drowsy', 16470.08),\n",
       " (u'Cosopt', 43765.64),\n",
       " (u'Cyanocobalamin', 75192.53),\n",
       " (u'Dictionary', 66420.93),\n",
       " (u'Disposable diapers', 68147.48000000001),\n",
       " (u'Essentials Crash Tag Team Racing PSP', 57708.119999999995),\n",
       " (u'Essentials Dantes Inferno PSP', 37302.96),\n",
       " (u'Essentials Medal of Honor: Heroes 2 PSP', 20736.739999999998),\n",
       " (u'Essentials Tekken 6 PS3', 57313.90000000001),\n",
       " (u'Far Cry 4 Limited Edition for Xbox One', 82055.45999999999),\n",
       " (u'GAM X360  Dead Space 3 Limited Edition', 30427.82),\n",
       " (u'GAM X360 Assassins Creed 3', 62592.43000000001),\n",
       " (u'GAM X360 Hitman Absolution X360', 31636.440000000002),\n",
       " (u'GAM X360 Need for Speed Most Wanted 2012', 45715.700000000004),\n",
       " (u'GUNA-EGF', 57093.47),\n",
       " (u'Gabapentin', 51227.19),\n",
       " (u'Glipizide', 79808.08),\n",
       " (u'Grippe', 25839.77),\n",
       " (u'Intel Core i3 3220', 52398.95),\n",
       " (u'Intel Core i5 3330', 25118.019999999997),\n",
       " (u'Intel Core i5 3570', 75445.76999999999),\n",
       " (u'Intel Core i7 3770K', 34104.55),\n",
       " (u'Jafra', 91335.4),\n",
       " (u'Jantoven', 86316.57),\n",
       " (u'LEGO Architecture', 63779.96),\n",
       " (u'LEGO Bionicle', 56750.990000000005),\n",
       " (u'LEGO Castle', 43252.97),\n",
       " (u'LEGO Classic', 46664.43000000001),\n",
       " (u'LEGO Galaxy Squad', 47265.86),\n",
       " (u'LEGO Hero Factory', 45396.11),\n",
       " (u'LEGO Jurassic World', 947.76),\n",
       " (u'LEGO Legends of Chima', 41753.85),\n",
       " (u'LEGO Lord of the Rings', 45286.280000000006),\n",
       " (u'LEGO Mindstorms', 36973.270000000004),\n",
       " (u'LEGO Minecraft', 64525.34),\n",
       " (u'LEGO Minifigures', 46486.0),\n",
       " (u'LEGO Mixels', 74330.11),\n",
       " (u'LEGO Pirates', 46973.67),\n",
       " (u'LEGO Speed Champion', 76892.02),\n",
       " (u'LEGO Star Wars', 43761.869999999995),\n",
       " (u'LEGO Storage & Accessories', 49231.85),\n",
       " (u'LEGO Technic', 53709.75),\n",
       " (u'LEGO The Hobbit', 47085.59),\n",
       " (u'LG LED TV 32LN5400', 26855.230000000003),\n",
       " (u'LG LED TV 32LN575S', 61318.78),\n",
       " (u'LG LED TV 42LA6130', 50163.71),\n",
       " (u'Levalbuterol Hydrochloride', 42600.91),\n",
       " (u'Lisinopril', 63754.63),\n",
       " (u'Mattel Little Mommy Doctor Doll', 27613.84),\n",
       " (u'Medal Of Honor Allied Assault War Chest PC', 18773.99),\n",
       " (u'Might and Magic: Clash Of Heroes PC', 29685.05),\n",
       " (u'Minoxidil', 43543.5),\n",
       " (u'Niacin', 62133.899999999994),\n",
       " (u'Notebook Lenovo E545 20B2000KSC', 65796.9),\n",
       " (u'Notebook Lenovo U330p, 59-390439', 186539.8),\n",
       " (u'Notebook Lenovo U430p, 59-390459', 85557.16),\n",
       " (u'Notebook Lenovo Yoga Think, 20CD0001SC', 34017.57),\n",
       " (u'Obao', 38525.81),\n",
       " (u'PC HP 490PD MT, D5T60EA', 67463.17),\n",
       " (u'PC HP 490PD MT, D5T62EA', 54251.83),\n",
       " (u'PC HP 490PD MT, D5T68EA', 46011.79),\n",
       " (u'PC HP 600PD TWR, E7P49AW', 61734.74),\n",
       " (u'Phentermine Hydrochloride', 39110.72),\n",
       " (u'Procesor Intel Core i5 3470', 68464.77000000002),\n",
       " (u'ROBITUSSIN PEAK COLD NIGHTTIME COLD PLUS FLU', 89434.73000000001),\n",
       " (u'Roller Derby Roller Street Series Skateboard Bruiser', 58670.57000000001),\n",
       " (u'SAMSUNG LED TV 32F4510, HD ready, USB', 50313.89),\n",
       " (u'SAMSUNG LED TV 39F5500, Full HD, USB', 128743.52),\n",
       " (u'SAMSUNG LED TV 42F5300, Full HD, USB', 49494.53999999999),\n",
       " (u'SAMSUNG LED TV 55F6500, Full HD, 3D, USB', 23534.230000000003),\n",
       " (u'Santalia Clinical Intenstive Spot Treatment', 49245.05),\n",
       " (u'Scrub Care Povidone Iodine Cleansing Scrub', 59612.96),\n",
       " (u'Sony Playstation 3', 55719.08000000001),\n",
       " (u'Star Wars Republic Commando PC', 41679.19),\n",
       " (u'Star Wars The Force Unleashed Ultimate Sith Edition PC',\n",
       "  31321.149999999998),\n",
       " (u'Stomach Disorders', 39755.84),\n",
       " (u'Toothbrush', 27855.89),\n",
       " (u'Treatment Set TS332287', 40571.759999999995),\n",
       " (u'ZOCOR', 50775.009999999995),\n",
       " (u'chest congestion', 73536.78),\n",
       " (u'healthy accents sinus', 46411.33),\n",
       " (u'ibuprofen', 76108.16999999998)]"
      ]
     },
     "execution_count": 157,
     "metadata": {},
     "output_type": "execute_result"
    }
   ],
   "source": [
    "rdd_prod_name_by_totals_sold.sortByKey().collect()"
   ]
  },
  {
   "cell_type": "markdown",
   "metadata": {},
   "source": [
    "#### takeOrdered\n",
    "top and takeOrdered don’t perform full sorting of data among partitions. Instead, they first take the first (or\n",
    "last) n elements from each partition, merge the results, and then take the first (or last) n elements from the merged list. This is much faster than doing sortBy and then calling take, because much less data needs to be\n",
    "transferred over the network."
   ]
  },
  {
   "cell_type": "code",
   "execution_count": 159,
   "metadata": {
    "collapsed": true
   },
   "outputs": [],
   "source": [
    "rdd1 = sc.parallelize([8, 3, 4, 1, 4, 6, 5, 0, 9])"
   ]
  },
  {
   "cell_type": "code",
   "execution_count": 160,
   "metadata": {},
   "outputs": [
    {
     "data": {
      "text/plain": [
       "[0, 1, 3, 4, 4]"
      ]
     },
     "execution_count": 160,
     "metadata": {},
     "output_type": "execute_result"
    }
   ],
   "source": [
    "rdd1.takeOrdered(5)"
   ]
  },
  {
   "cell_type": "code",
   "execution_count": 162,
   "metadata": {},
   "outputs": [
    {
     "data": {
      "text/plain": [
       "[9, 8, 6, 5, 4, 4, 3, 1, 0]"
      ]
     },
     "execution_count": 162,
     "metadata": {},
     "output_type": "execute_result"
    }
   ],
   "source": [
    "rdd1.takeOrdered(10, key=lambda x: -x)"
   ]
  },
  {
   "cell_type": "code",
   "execution_count": 163,
   "metadata": {},
   "outputs": [
    {
     "data": {
      "text/plain": [
       "[9, 8]"
      ]
     },
     "execution_count": 163,
     "metadata": {},
     "output_type": "execute_result"
    }
   ],
   "source": [
    "rdd1.top(2)"
   ]
  },
  {
   "cell_type": "code",
   "execution_count": 164,
   "metadata": {},
   "outputs": [
    {
     "data": {
      "text/plain": [
       "[0, 1]"
      ]
     },
     "execution_count": 164,
     "metadata": {},
     "output_type": "execute_result"
    }
   ],
   "source": [
    "rdd1.top(2, key=lambda x: -x)"
   ]
  },
  {
   "cell_type": "markdown",
   "metadata": {},
   "source": [
    "### 4.3.3 calculate the average, maximum, minimum, and total price of products bought per customer"
   ]
  },
  {
   "cell_type": "code",
   "execution_count": 166,
   "metadata": {},
   "outputs": [
    {
     "data": {
      "text/plain": [
       "[(51, [u'2015-03-30', u'6:55 AM', u'51', u'68', u'1', u'9506.21']),\n",
       " (99, [u'2015-03-30', u'7:39 PM', u'99', u'86', u'5', u'4107.59']),\n",
       " (79, [u'2015-03-30', u'11:57 AM', u'79', u'58', u'7', u'2987.22']),\n",
       " (51, [u'2015-03-30', u'12:46 AM', u'51', u'50', u'6', u'7501.89']),\n",
       " (86, [u'2015-03-30', u'11:39 AM', u'86', u'24', u'5', u'8370.2'])]"
      ]
     },
     "execution_count": 166,
     "metadata": {},
     "output_type": "execute_result"
    }
   ],
   "source": [
    "rdd_trans_by_cust.take(5)"
   ]
  },
  {
   "cell_type": "code",
   "execution_count": 167,
   "metadata": {
    "collapsed": true
   },
   "outputs": [],
   "source": [
    "def createCombiner(t):\n",
    "    totalSpent = float(t[5])\n",
    "    quantity = int(t[4])\n",
    "    pricePerProduct = totalSpent / quantity\n",
    "    # min, max, quantity, total\n",
    "    return (pricePerProduct, pricePerProduct, quantity, totalSpent)\n",
    "\n",
    "def mergeValue((mini, maxi, qt, total), t):\n",
    "    (mini_t, maxi_t, qt_t, total_t) = createCombiner(t)\n",
    "    return (min(mini, mini_t), max(maxi, maxi_t), qt + qt_t, total + total_t)\n",
    "\n",
    "def mergeCombiners((mini1, maxi1, qt1, total1), (mini2, maxi2, qt2, total2)):\n",
    "    return (min(mini1, mini2), max(maxi1, maxi2), qt1 + qt2, total1 + total2)"
   ]
  },
  {
   "cell_type": "code",
   "execution_count": 168,
   "metadata": {
    "collapsed": true
   },
   "outputs": [],
   "source": [
    "rdd_cust_stats = rdd_trans_by_cust.combineByKey(createCombiner, mergeValue, mergeCombiners)"
   ]
  },
  {
   "cell_type": "code",
   "execution_count": 169,
   "metadata": {},
   "outputs": [
    {
     "data": {
      "text/plain": [
       "[(2, (86.128, 2011.855, 93, 70601.0)),\n",
       " (4, (63.18222222222222, 6614.49, 58, 41801.35)),\n",
       " (6, (100.167, 3616.185, 35, 30549.28)),\n",
       " (8, (5.862, 2333.436666666667, 66, 38603.81)),\n",
       " (10, (635.6588888888889, 3540.085, 41, 46120.25))]"
      ]
     },
     "execution_count": 169,
     "metadata": {},
     "output_type": "execute_result"
    }
   ],
   "source": [
    "rdd_cust_stats.take(5)"
   ]
  },
  {
   "cell_type": "code",
   "execution_count": 170,
   "metadata": {},
   "outputs": [
    {
     "data": {
      "text/plain": [
       "100"
      ]
     },
     "execution_count": 170,
     "metadata": {},
     "output_type": "execute_result"
    }
   ],
   "source": [
    "rdd_cust_stats.count()"
   ]
  },
  {
   "cell_type": "code",
   "execution_count": 171,
   "metadata": {},
   "outputs": [
    {
     "data": {
      "text/plain": [
       "[(2, (86.128, 2011.855, 93, 70601.0, 759.1505376344086)),\n",
       " (4, (63.18222222222222, 6614.49, 58, 41801.35, 720.7129310344827)),\n",
       " (6, (100.167, 3616.185, 35, 30549.28, 872.8365714285713)),\n",
       " (8, (5.862, 2333.436666666667, 66, 38603.81, 584.9062121212121)),\n",
       " (10, (635.6588888888889, 3540.085, 41, 46120.25, 1124.8841463414635))]"
      ]
     },
     "execution_count": 171,
     "metadata": {},
     "output_type": "execute_result"
    }
   ],
   "source": [
    "# Now, find avg for each customer\n",
    "rdd_avg_by_cust = rdd_cust_stats.mapValues(lambda (mini, maxi, qt, total): (mini, maxi, qt, total, total/qt))\n",
    "rdd_avg_by_cust.take(5)"
   ]
  },
  {
   "cell_type": "code",
   "execution_count": 173,
   "metadata": {
    "collapsed": true
   },
   "outputs": [],
   "source": [
    "# Save to file\n",
    "rdd_avg_by_cust \\\n",
    "    .map(lambda (custid, (mini, maxi, qt, total, avg)): '{:d}#{:.2f}#{:.2f}#{:d}#{:.2f}#{:.2f}'.format(custid, mini, maxi, qt, total, avg)) \\\n",
    "    .saveAsTextFile('dataOut/ch04_avgbycust')"
   ]
  },
  {
   "cell_type": "code",
   "execution_count": null,
   "metadata": {
    "collapsed": true
   },
   "outputs": [],
   "source": [
    "### 4.4.1"
   ]
  },
  {
   "cell_type": "code",
   "execution_count": 20,
   "metadata": {
    "collapsed": true
   },
   "outputs": [],
   "source": [
    "import random\n",
    "l = [random.randrange(10) for x in range(500)]\n",
    "rdd_list = sc.parallelize(l, 5)"
   ]
  },
  {
   "cell_type": "code",
   "execution_count": 21,
   "metadata": {},
   "outputs": [
    {
     "data": {
      "text/plain": [
       "[5, 1, 7, 6, 5]"
      ]
     },
     "execution_count": 21,
     "metadata": {},
     "output_type": "execute_result"
    }
   ],
   "source": [
    "rdd_list.take(5)"
   ]
  },
  {
   "cell_type": "code",
   "execution_count": 22,
   "metadata": {},
   "outputs": [
    {
     "data": {
      "text/plain": [
       "[(5, 25), (1, 1), (7, 49), (6, 36), (5, 25)]"
      ]
     },
     "execution_count": 22,
     "metadata": {},
     "output_type": "execute_result"
    }
   ],
   "source": [
    "rdd_pair = rdd_list.map(lambda x: (x, x*x))\n",
    "rdd_pair.take(5)"
   ]
  },
  {
   "cell_type": "code",
   "execution_count": 23,
   "metadata": {},
   "outputs": [
    {
     "name": "stdout",
     "output_type": "stream",
     "text": [
      "(5) PythonRDD[21] at RDD at PythonRDD.scala:48 []\n",
      " |  ParallelCollectionRDD[18] at parallelize at PythonRDD.scala:480 []\n"
     ]
    }
   ],
   "source": [
    "print(rdd_pair.toDebugString())"
   ]
  },
  {
   "cell_type": "code",
   "execution_count": 24,
   "metadata": {},
   "outputs": [
    {
     "data": {
      "text/plain": [
       "[(0, 0), (5, 1150), (1, 47), (6, 1836), (2, 196)]"
      ]
     },
     "execution_count": 24,
     "metadata": {},
     "output_type": "execute_result"
    }
   ],
   "source": [
    "rdd_reduced = rdd_pair.reduceByKey(lambda v1, v2: v1 + v2)\n",
    "rdd_reduced.take(5)"
   ]
  },
  {
   "cell_type": "code",
   "execution_count": 25,
   "metadata": {},
   "outputs": [
    {
     "name": "stdout",
     "output_type": "stream",
     "text": [
      "(5) PythonRDD[28] at RDD at PythonRDD.scala:48 []\n",
      " |  MapPartitionsRDD[25] at mapPartitions at PythonRDD.scala:427 []\n",
      " |  ShuffledRDD[24] at partitionBy at NativeMethodAccessorImpl.java:0 []\n",
      " +-(5) PairwiseRDD[23] at reduceByKey at <ipython-input-24-678881a2837a>:1 []\n",
      "    |  PythonRDD[22] at reduceByKey at <ipython-input-24-678881a2837a>:1 []\n",
      "    |  ParallelCollectionRDD[18] at parallelize at PythonRDD.scala:480 []\n"
     ]
    }
   ],
   "source": [
    "print(rdd_reduced.toDebugString())"
   ]
  },
  {
   "cell_type": "code",
   "execution_count": 26,
   "metadata": {},
   "outputs": [
    {
     "data": {
      "text/plain": [
       "['K=0,V=0',\n",
       " 'K=5,V=1150',\n",
       " 'K=1,V=47',\n",
       " 'K=6,V=1836',\n",
       " 'K=2,V=196',\n",
       " 'K=7,V=2401',\n",
       " 'K=8,V=3328',\n",
       " 'K=3,V=549',\n",
       " 'K=9,V=4212',\n",
       " 'K=4,V=736']"
      ]
     },
     "execution_count": 26,
     "metadata": {},
     "output_type": "execute_result"
    }
   ],
   "source": [
    "rdd_final = rdd_reduced.mapPartitions(lambda itr: [\"K=\"+str(k)+\",V=\"+str(v) for (k,v) in itr])\n",
    "rdd_final.collect()"
   ]
  },
  {
   "cell_type": "code",
   "execution_count": 27,
   "metadata": {},
   "outputs": [
    {
     "name": "stdout",
     "output_type": "stream",
     "text": [
      "(5) PythonRDD[29] at collect at <ipython-input-26-cdfcfe487515>:2 []\n",
      " |  MapPartitionsRDD[25] at mapPartitions at PythonRDD.scala:427 []\n",
      " |  ShuffledRDD[24] at partitionBy at NativeMethodAccessorImpl.java:0 []\n",
      " +-(5) PairwiseRDD[23] at reduceByKey at <ipython-input-24-678881a2837a>:1 []\n",
      "    |  PythonRDD[22] at reduceByKey at <ipython-input-24-678881a2837a>:1 []\n",
      "    |  ParallelCollectionRDD[18] at parallelize at PythonRDD.scala:480 []\n"
     ]
    }
   ],
   "source": [
    "print(rdd_final.toDebugString())"
   ]
  },
  {
   "cell_type": "markdown",
   "metadata": {},
   "source": [
    "### 4.4.3"
   ]
  },
  {
   "cell_type": "code",
   "execution_count": 50,
   "metadata": {
    "collapsed": true
   },
   "outputs": [],
   "source": [
    "sc.setCheckpointDir('dataOut/')"
   ]
  },
  {
   "cell_type": "code",
   "execution_count": 48,
   "metadata": {
    "collapsed": true
   },
   "outputs": [],
   "source": [
    "import random\n",
    "l = [random.randrange(10) for x in range(500)]"
   ]
  },
  {
   "cell_type": "code",
   "execution_count": 63,
   "metadata": {
    "collapsed": true
   },
   "outputs": [],
   "source": [
    "rdd_reduced = sc.parallelize(l, 5).map(lambda x: (x, x*x)).reduceByKey(lambda v1, v2: v1+v2)"
   ]
  },
  {
   "cell_type": "code",
   "execution_count": 64,
   "metadata": {
    "collapsed": true
   },
   "outputs": [],
   "source": [
    "# checkpoint must be called before any jobs are executed on the RDD\n",
    "# and the RDD has to be materialized afterward (some action has to be called on it)\n",
    "# for the checkpointing to be done.\n",
    "rdd_reduced.checkpoint()"
   ]
  },
  {
   "cell_type": "code",
   "execution_count": 65,
   "metadata": {},
   "outputs": [
    {
     "name": "stdout",
     "output_type": "stream",
     "text": [
      "(5) PythonRDD[46] at RDD at PythonRDD.scala:48 []\n",
      " |  MapPartitionsRDD[45] at mapPartitions at PythonRDD.scala:427 []\n",
      " |  ShuffledRDD[44] at partitionBy at NativeMethodAccessorImpl.java:0 []\n",
      " +-(5) PairwiseRDD[43] at reduceByKey at <ipython-input-63-b27adda5fbb8>:3 []\n",
      "    |  PythonRDD[42] at reduceByKey at <ipython-input-63-b27adda5fbb8>:3 []\n",
      "    |  ParallelCollectionRDD[41] at parallelize at PythonRDD.scala:480 []\n"
     ]
    }
   ],
   "source": [
    "print(rdd_reduced.toDebugString())"
   ]
  },
  {
   "cell_type": "code",
   "execution_count": 66,
   "metadata": {},
   "outputs": [
    {
     "data": {
      "text/plain": [
       "10"
      ]
     },
     "execution_count": 66,
     "metadata": {},
     "output_type": "execute_result"
    }
   ],
   "source": [
    "# Checkpoint was called before any job (actions) was called on rdd\n",
    "# With this action, rdd has materialized.\n",
    "rdd_reduced.count()"
   ]
  },
  {
   "cell_type": "code",
   "execution_count": 67,
   "metadata": {},
   "outputs": [
    {
     "name": "stdout",
     "output_type": "stream",
     "text": [
      "(5) PythonRDD[46] at RDD at PythonRDD.scala:48 []\n",
      " |  ReliableCheckpointRDD[48] at count at <ipython-input-66-5458b21af941>:1 []\n"
     ]
    }
   ],
   "source": [
    "print(rdd_reduced.toDebugString())"
   ]
  },
  {
   "cell_type": "code",
   "execution_count": 68,
   "metadata": {},
   "outputs": [
    {
     "data": {
      "text/plain": [
       "u'file:/home/deepakt/Documents/dev/spark/sia/sia-ch4/dataOut/a67dddb7-4e8e-45f9-9456-0e0227bf5a5d/rdd-46'"
      ]
     },
     "execution_count": 68,
     "metadata": {},
     "output_type": "execute_result"
    }
   ],
   "source": [
    "rdd_reduced.getCheckpointFile()"
   ]
  },
  {
   "cell_type": "code",
   "execution_count": 69,
   "metadata": {},
   "outputs": [
    {
     "data": {
      "text/plain": [
       "True"
      ]
     },
     "execution_count": 69,
     "metadata": {},
     "output_type": "execute_result"
    }
   ],
   "source": [
    "rdd_reduced.isCheckpointed()"
   ]
  },
  {
   "cell_type": "code",
   "execution_count": 70,
   "metadata": {},
   "outputs": [
    {
     "data": {
      "text/plain": [
       "False"
      ]
     },
     "execution_count": 70,
     "metadata": {},
     "output_type": "execute_result"
    }
   ],
   "source": [
    "rdd_reduced.isLocallyCheckpointed()"
   ]
  },
  {
   "cell_type": "markdown",
   "metadata": {},
   "source": [
    "### 4.5.1"
   ]
  },
  {
   "cell_type": "markdown",
   "metadata": {},
   "source": [
    "#### accumulators in Python cannot be named"
   ]
  },
  {
   "cell_type": "code",
   "execution_count": 6,
   "metadata": {
    "collapsed": true
   },
   "outputs": [],
   "source": [
    "accum = sc.accumulator(0)"
   ]
  },
  {
   "cell_type": "code",
   "execution_count": 7,
   "metadata": {
    "collapsed": true
   },
   "outputs": [],
   "source": [
    "rdd_l = sc.parallelize(range(1000000))"
   ]
  },
  {
   "cell_type": "code",
   "execution_count": 8,
   "metadata": {
    "collapsed": true
   },
   "outputs": [],
   "source": [
    "rdd_l.foreach(lambda x: accum.add(x))"
   ]
  },
  {
   "cell_type": "code",
   "execution_count": 9,
   "metadata": {},
   "outputs": [
    {
     "data": {
      "text/plain": [
       "499999500000"
      ]
     },
     "execution_count": 9,
     "metadata": {},
     "output_type": "execute_result"
    }
   ],
   "source": [
    "accum.value"
   ]
  },
  {
   "cell_type": "markdown",
   "metadata": {
    "collapsed": true
   },
   "source": [
    "### 4.5.2 Broadcast variables"
   ]
  },
  {
   "cell_type": "code",
   "execution_count": 13,
   "metadata": {
    "collapsed": true
   },
   "outputs": [],
   "source": [
    "import random\n",
    "l = [random.randrange(10) for x in range(10)]"
   ]
  },
  {
   "cell_type": "code",
   "execution_count": 14,
   "metadata": {
    "collapsed": true
   },
   "outputs": [],
   "source": [
    "l_broadcast = sc.broadcast(l)"
   ]
  },
  {
   "cell_type": "code",
   "execution_count": 15,
   "metadata": {},
   "outputs": [
    {
     "data": {
      "text/plain": [
       "[0, 5, 5, 7, 0, 7, 5, 4, 3, 0]"
      ]
     },
     "execution_count": 15,
     "metadata": {},
     "output_type": "execute_result"
    }
   ],
   "source": [
    "l_broadcast.value"
   ]
  },
  {
   "cell_type": "code",
   "execution_count": 20,
   "metadata": {
    "collapsed": true
   },
   "outputs": [],
   "source": [
    "l_rdd = sc.parallelize([random.randrange(10) for x in range(100)]).map(lambda x: x+l_broadcast.value[random.randrange(10)])"
   ]
  },
  {
   "cell_type": "code",
   "execution_count": 21,
   "metadata": {},
   "outputs": [
    {
     "data": {
      "text/plain": [
       "[7, 5, 13, 9, 4]"
      ]
     },
     "execution_count": 21,
     "metadata": {},
     "output_type": "execute_result"
    }
   ],
   "source": [
    "l_rdd.take(5)"
   ]
  },
  {
   "cell_type": "code",
   "execution_count": null,
   "metadata": {
    "collapsed": true
   },
   "outputs": [],
   "source": []
  }
 ],
 "metadata": {
  "kernelspec": {
   "display_name": "Spark venv (Python 2)",
   "language": "python",
   "name": "sparkvenv"
  },
  "language_info": {
   "codemirror_mode": {
    "name": "ipython",
    "version": 2
   },
   "file_extension": ".py",
   "mimetype": "text/x-python",
   "name": "python",
   "nbconvert_exporter": "python",
   "pygments_lexer": "ipython2",
   "version": "2.7.12"
  }
 },
 "nbformat": 4,
 "nbformat_minor": 2
}
