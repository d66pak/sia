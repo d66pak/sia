{
 "cells": [
  {
   "cell_type": "markdown",
   "metadata": {},
   "source": [
    "# Chapter 4"
   ]
  },
  {
   "cell_type": "markdown",
   "metadata": {},
   "source": [
    "## 4.1.2"
   ]
  },
  {
   "cell_type": "code",
   "execution_count": 1,
   "metadata": {
    "collapsed": true
   },
   "outputs": [],
   "source": [
    "rdd_trans = sc.textFile('dataIn/ch04_data_transactions.txt')"
   ]
  },
  {
   "cell_type": "code",
   "execution_count": 2,
   "metadata": {},
   "outputs": [
    {
     "data": {
      "text/plain": [
       "1000"
      ]
     },
     "execution_count": 2,
     "metadata": {},
     "output_type": "execute_result"
    }
   ],
   "source": [
    "rdd_trans.count()"
   ]
  },
  {
   "cell_type": "code",
   "execution_count": 3,
   "metadata": {},
   "outputs": [
    {
     "data": {
      "text/plain": [
       "[u'2015-03-30#6:55 AM#51#68#1#9506.21',\n",
       " u'2015-03-30#7:39 PM#99#86#5#4107.59',\n",
       " u'2015-03-30#11:57 AM#79#58#7#2987.22',\n",
       " u'2015-03-30#12:46 AM#51#50#6#7501.89',\n",
       " u'2015-03-30#11:39 AM#86#24#5#8370.2']"
      ]
     },
     "execution_count": 3,
     "metadata": {},
     "output_type": "execute_result"
    }
   ],
   "source": [
    "rdd_trans.take(5)"
   ]
  },
  {
   "cell_type": "code",
   "execution_count": 4,
   "metadata": {
    "collapsed": true
   },
   "outputs": [],
   "source": [
    "rdd_trans_data = rdd_trans.map(lambda line: line.split('#'))"
   ]
  },
  {
   "cell_type": "code",
   "execution_count": 5,
   "metadata": {},
   "outputs": [
    {
     "data": {
      "text/plain": [
       "1000"
      ]
     },
     "execution_count": 5,
     "metadata": {},
     "output_type": "execute_result"
    }
   ],
   "source": [
    "rdd_trans_data.count()"
   ]
  },
  {
   "cell_type": "code",
   "execution_count": 6,
   "metadata": {},
   "outputs": [
    {
     "data": {
      "text/plain": [
       "[[u'2015-03-30', u'6:55 AM', u'51', u'68', u'1', u'9506.21'],\n",
       " [u'2015-03-30', u'7:39 PM', u'99', u'86', u'5', u'4107.59'],\n",
       " [u'2015-03-30', u'11:57 AM', u'79', u'58', u'7', u'2987.22'],\n",
       " [u'2015-03-30', u'12:46 AM', u'51', u'50', u'6', u'7501.89'],\n",
       " [u'2015-03-30', u'11:39 AM', u'86', u'24', u'5', u'8370.2']]"
      ]
     },
     "execution_count": 6,
     "metadata": {},
     "output_type": "execute_result"
    }
   ],
   "source": [
    "rdd_trans_data.take(5)"
   ]
  },
  {
   "cell_type": "code",
   "execution_count": 11,
   "metadata": {
    "collapsed": true
   },
   "outputs": [],
   "source": [
    "# create paired rdd\n",
    "rdd_trans_by_cust = rdd_trans_data.map(lambda trans: (int(trans[2]), trans))"
   ]
  },
  {
   "cell_type": "code",
   "execution_count": 12,
   "metadata": {},
   "outputs": [
    {
     "data": {
      "text/plain": [
       "1000"
      ]
     },
     "execution_count": 12,
     "metadata": {},
     "output_type": "execute_result"
    }
   ],
   "source": [
    "rdd_trans_by_cust.count()"
   ]
  },
  {
   "cell_type": "code",
   "execution_count": 13,
   "metadata": {},
   "outputs": [
    {
     "data": {
      "text/plain": [
       "[(51, [u'2015-03-30', u'6:55 AM', u'51', u'68', u'1', u'9506.21']),\n",
       " (99, [u'2015-03-30', u'7:39 PM', u'99', u'86', u'5', u'4107.59']),\n",
       " (79, [u'2015-03-30', u'11:57 AM', u'79', u'58', u'7', u'2987.22']),\n",
       " (51, [u'2015-03-30', u'12:46 AM', u'51', u'50', u'6', u'7501.89']),\n",
       " (86, [u'2015-03-30', u'11:39 AM', u'86', u'24', u'5', u'8370.2'])]"
      ]
     },
     "execution_count": 13,
     "metadata": {},
     "output_type": "execute_result"
    }
   ],
   "source": [
    "rdd_trans_by_cust.take(5)"
   ]
  },
  {
   "cell_type": "code",
   "execution_count": 17,
   "metadata": {},
   "outputs": [
    {
     "data": {
      "text/plain": [
       "100"
      ]
     },
     "execution_count": 17,
     "metadata": {},
     "output_type": "execute_result"
    }
   ],
   "source": [
    "# Unique transactions\n",
    "rdd_trans_by_cust.keys().distinct().count()"
   ]
  },
  {
   "cell_type": "code",
   "execution_count": 18,
   "metadata": {},
   "outputs": [
    {
     "data": {
      "text/plain": [
       "[2, 4, 6, 8, 10]"
      ]
     },
     "execution_count": 18,
     "metadata": {},
     "output_type": "execute_result"
    }
   ],
   "source": [
    "rdd_trans_by_cust.keys().distinct().take(5)"
   ]
  },
  {
   "cell_type": "markdown",
   "metadata": {},
   "source": [
    "## Give a complimentary bear doll (ID 4) to the customer who made the most transactions."
   ]
  },
  {
   "cell_type": "code",
   "execution_count": 38,
   "metadata": {},
   "outputs": [
    {
     "data": {
      "text/plain": [
       "(19, 53)"
      ]
     },
     "execution_count": 38,
     "metadata": {},
     "output_type": "execute_result"
    }
   ],
   "source": [
    "# 1st method\n",
    "(trans_count, cid) = sorted(rdd_trans_by_cust \\\n",
    "                            .groupByKey() \\\n",
    "                            .mapValues(len) \\\n",
    "                            .map(lambda t: (t[1], t[0])) \\\n",
    "                            .collect()\n",
    "                           )[-1]\n",
    "(trans_count, cid)"
   ]
  },
  {
   "cell_type": "code",
   "execution_count": 39,
   "metadata": {},
   "outputs": [
    {
     "data": {
      "text/plain": [
       "(53, 19)"
      ]
     },
     "execution_count": 39,
     "metadata": {},
     "output_type": "execute_result"
    }
   ],
   "source": [
    "# 2nd method\n",
    "(cid, trans_count) = sorted(rdd_trans_by_cust \\\n",
    "                            .groupByKey() \\\n",
    "                            .mapValues(len) \\\n",
    "                            .collect(), key=lambda t: t[1], reverse=True)[0]\n",
    "(cid, trans_count)"
   ]
  },
  {
   "cell_type": "code",
   "execution_count": 40,
   "metadata": {},
   "outputs": [
    {
     "data": {
      "text/plain": [
       "(53, 19)"
      ]
     },
     "execution_count": 40,
     "metadata": {},
     "output_type": "execute_result"
    }
   ],
   "source": [
    "(cid, trans_count) = sorted(rdd_trans_by_cust \\\n",
    "                            .countByKey() \\\n",
    "                            .items(), key=lambda t: t[1], reverse=True)[0]\n",
    "(cid, trans_count)"
   ]
  },
  {
   "cell_type": "markdown",
   "metadata": {},
   "source": [
    "### Transactions made by customerId : 53"
   ]
  },
  {
   "cell_type": "code",
   "execution_count": 41,
   "metadata": {},
   "outputs": [
    {
     "data": {
      "text/plain": [
       "[[u'2015-03-30', u'6:18 AM', u'53', u'42', u'5', u'2197.85'],\n",
       " [u'2015-03-30', u'4:42 AM', u'53', u'44', u'6', u'9182.08'],\n",
       " [u'2015-03-30', u'2:51 AM', u'53', u'59', u'5', u'3154.43'],\n",
       " [u'2015-03-30', u'5:57 PM', u'53', u'31', u'5', u'6649.27'],\n",
       " [u'2015-03-30', u'6:11 AM', u'53', u'33', u'10', u'2353.72'],\n",
       " [u'2015-03-30', u'9:46 PM', u'53', u'93', u'1', u'2889.03'],\n",
       " [u'2015-03-30', u'4:15 PM', u'53', u'72', u'7', u'9157.55'],\n",
       " [u'2015-03-30', u'2:42 PM', u'53', u'94', u'1', u'921.65'],\n",
       " [u'2015-03-30', u'8:30 AM', u'53', u'38', u'5', u'4000.92'],\n",
       " [u'2015-03-30', u'6:06 AM', u'53', u'12', u'6', u'2174.02'],\n",
       " [u'2015-03-30', u'3:44 AM', u'53', u'47', u'1', u'7556.32'],\n",
       " [u'2015-03-30', u'10:25 AM', u'53', u'30', u'2', u'5107.0'],\n",
       " [u'2015-03-30', u'1:48 AM', u'53', u'58', u'4', u'718.93'],\n",
       " [u'2015-03-30', u'9:31 AM', u'53', u'18', u'4', u'8214.79'],\n",
       " [u'2015-03-30', u'9:04 AM', u'53', u'68', u'4', u'9246.59'],\n",
       " [u'2015-03-30', u'1:51 AM', u'53', u'40', u'1', u'4095.5'],\n",
       " [u'2015-03-30', u'1:53 PM', u'53', u'85', u'9', u'1630.24'],\n",
       " [u'2015-03-30', u'6:51 PM', u'53', u'100', u'1', u'1694.52'],\n",
       " [u'2015-03-30', u'7:39 PM', u'53', u'100', u'8', u'7885.35']]"
      ]
     },
     "execution_count": 41,
     "metadata": {},
     "output_type": "execute_result"
    }
   ],
   "source": [
    "rdd_trans_by_cust.lookup(53)"
   ]
  },
  {
   "cell_type": "code",
   "execution_count": 87,
   "metadata": {
    "collapsed": true
   },
   "outputs": [],
   "source": [
    "# Complementary Bear doll\n",
    "l_l_complTrans = [[\"2015-03-30\", \"11:59 PM\", \"53\", \"4\", \"1\", \"0.00\"]]"
   ]
  },
  {
   "cell_type": "markdown",
   "metadata": {},
   "source": [
    "## Give a 5% discount for two or more Barbie Shopping Mall Playsets bought"
   ]
  },
  {
   "cell_type": "markdown",
   "metadata": {},
   "source": [
    "### filter() when called on a paired rdd receives a tuple (k, v)"
   ]
  },
  {
   "cell_type": "code",
   "execution_count": 43,
   "metadata": {},
   "outputs": [
    {
     "data": {
      "text/plain": [
       "9"
      ]
     },
     "execution_count": 43,
     "metadata": {},
     "output_type": "execute_result"
    }
   ],
   "source": [
    "rdd_trans_by_cust.filter(lambda t: int(t[1][3]) == 25 and int(t[1][4]) > 1).count()"
   ]
  },
  {
   "cell_type": "code",
   "execution_count": 44,
   "metadata": {
    "collapsed": true
   },
   "outputs": [],
   "source": [
    "def isMultipleBarbiShpMallPlay(trans):\n",
    "    return int(trans[3]) == 25 and int(trans[4]) > 1"
   ]
  },
  {
   "cell_type": "code",
   "execution_count": 53,
   "metadata": {},
   "outputs": [
    {
     "data": {
      "text/plain": [
       "[(17, [u'2015-03-30', u'6:26 PM', u'17', u'25', u'6', u'7193.11']),\n",
       " (93, [u'2015-03-30', u'7:27 AM', u'93', u'25', u'7', u'2749.15']),\n",
       " (68, [u'2015-03-30', u'1:07 AM', u'68', u'25', u'9', u'8391.61']),\n",
       " (59, [u'2015-03-30', u'1:23 AM', u'59', u'25', u'5', u'5296.69']),\n",
       " (42, [u'2015-03-30', u'9:45 AM', u'42', u'25', u'10', u'1363.97']),\n",
       " (77, [u'2015-03-30', u'10:40 PM', u'77', u'25', u'3', u'3345.81']),\n",
       " (22, [u'2015-03-30', u'12:53 PM', u'22', u'25', u'9', u'6996.42']),\n",
       " (32, [u'2015-03-30', u'12:44 AM', u'32', u'25', u'8', u'8849.5']),\n",
       " (75, [u'2015-03-30', u'5:30 PM', u'75', u'25', u'10', u'3557.01'])]"
      ]
     },
     "execution_count": 53,
     "metadata": {},
     "output_type": "execute_result"
    }
   ],
   "source": [
    "rdd_trans_by_cust.filter(lambda t: isMultipleBarbiShpMallPlay(t[1])).take(10)"
   ]
  },
  {
   "cell_type": "code",
   "execution_count": 48,
   "metadata": {
    "collapsed": true
   },
   "outputs": [],
   "source": [
    "def apply5PercentDiscount(trans):\n",
    "    if isMultipleBarbiShpMallPlay(trans):\n",
    "        trans[5] = str(float(trans[5]) * 0.95)\n",
    "    return trans"
   ]
  },
  {
   "cell_type": "code",
   "execution_count": 50,
   "metadata": {},
   "outputs": [],
   "source": [
    "rdd_trans_by_cust_discount = rdd_trans_by_cust.mapValues(lambda trans: apply5PercentDiscount(trans))"
   ]
  },
  {
   "cell_type": "code",
   "execution_count": 52,
   "metadata": {},
   "outputs": [
    {
     "data": {
      "text/plain": [
       "[(17, [u'2015-03-30', u'6:26 PM', u'17', u'25', u'6', '6833.4545']),\n",
       " (93, [u'2015-03-30', u'7:27 AM', u'93', u'25', u'7', '2611.6925']),\n",
       " (68, [u'2015-03-30', u'1:07 AM', u'68', u'25', u'9', '7972.0295']),\n",
       " (59, [u'2015-03-30', u'1:23 AM', u'59', u'25', u'5', '5031.8555']),\n",
       " (42, [u'2015-03-30', u'9:45 AM', u'42', u'25', u'10', '1295.7715']),\n",
       " (77, [u'2015-03-30', u'10:40 PM', u'77', u'25', u'3', '3178.5195']),\n",
       " (22, [u'2015-03-30', u'12:53 PM', u'22', u'25', u'9', '6646.599']),\n",
       " (32, [u'2015-03-30', u'12:44 AM', u'32', u'25', u'8', '8407.025']),\n",
       " (75, [u'2015-03-30', u'5:30 PM', u'75', u'25', u'10', '3379.1595'])]"
      ]
     },
     "execution_count": 52,
     "metadata": {},
     "output_type": "execute_result"
    }
   ],
   "source": [
    "rdd_trans_by_cust_discount.filter(lambda t: isMultipleBarbiShpMallPlay(t[1])).take(10)"
   ]
  },
  {
   "cell_type": "markdown",
   "metadata": {},
   "source": [
    "## Add a complimentary toothbrush (ID 70) to customers who bought five or more dictionaries (ID 81)"
   ]
  },
  {
   "cell_type": "code",
   "execution_count": 57,
   "metadata": {
    "collapsed": true
   },
   "outputs": [],
   "source": [
    "def isMultipleDictBought(tran):\n",
    "    return int(tran[3]) == 81 and int(tran[4]) > 4"
   ]
  },
  {
   "cell_type": "code",
   "execution_count": 56,
   "metadata": {},
   "outputs": [
    {
     "data": {
      "text/plain": [
       "[(85, [u'2015-03-30', u'1:55 PM', u'85', u'81', u'7', u'9648.24']),\n",
       " (77, [u'2015-03-30', u'9:34 PM', u'77', u'81', u'5', u'7798.28']),\n",
       " (82, [u'2015-03-30', u'3:40 AM', u'82', u'81', u'6', u'3665.45']),\n",
       " (47, [u'2015-03-30', u'10:39 PM', u'47', u'81', u'10', u'1122.89']),\n",
       " (16, [u'2015-03-30', u'11:02 AM', u'16', u'81', u'9', u'9063.74']),\n",
       " (10, [u'2015-03-30', u'2:54 PM', u'10', u'81', u'10', u'9897.61'])]"
      ]
     },
     "execution_count": 56,
     "metadata": {},
     "output_type": "execute_result"
    }
   ],
   "source": [
    "rdd_trans_by_cust.filter(lambda t: isMultipleDictBought(t[1])).take(10)"
   ]
  },
  {
   "cell_type": "code",
   "execution_count": 61,
   "metadata": {
    "collapsed": true
   },
   "outputs": [],
   "source": [
    "def addToothBrush(tran):\n",
    "    if isMultipleDictBought(tran):\n",
    "        from copy import copy\n",
    "        cloned_tran = copy(tran)\n",
    "        cloned_tran[5] = \"0.00\"\n",
    "        cloned_tran[3] = \"70\"\n",
    "        cloned_tran[4] = \"1\"\n",
    "        return [tran, cloned_tran]\n",
    "    else:\n",
    "        return [tran]"
   ]
  },
  {
   "cell_type": "code",
   "execution_count": 76,
   "metadata": {
    "collapsed": true
   },
   "outputs": [],
   "source": [
    "rdd_trans_by_cust_with_comp = rdd_trans_by_cust.flatMapValues(lambda tran: addToothBrush(tran))"
   ]
  },
  {
   "cell_type": "code",
   "execution_count": 63,
   "metadata": {},
   "outputs": [
    {
     "data": {
      "text/plain": [
       "1006"
      ]
     },
     "execution_count": 63,
     "metadata": {},
     "output_type": "execute_result"
    }
   ],
   "source": [
    "rdd_trans_by_cust_with_comp.count()"
   ]
  },
  {
   "cell_type": "code",
   "execution_count": 64,
   "metadata": {},
   "outputs": [
    {
     "data": {
      "text/plain": [
       "[(85, [u'2015-03-30', u'1:55 PM', u'85', u'81', u'7', u'9648.24']),\n",
       " (77, [u'2015-03-30', u'9:34 PM', u'77', u'81', u'5', u'7798.28']),\n",
       " (82, [u'2015-03-30', u'3:40 AM', u'82', u'81', u'6', u'3665.45']),\n",
       " (47, [u'2015-03-30', u'10:39 PM', u'47', u'81', u'10', u'1122.89']),\n",
       " (16, [u'2015-03-30', u'11:02 AM', u'16', u'81', u'9', u'9063.74']),\n",
       " (10, [u'2015-03-30', u'2:54 PM', u'10', u'81', u'10', u'9897.61'])]"
      ]
     },
     "execution_count": 64,
     "metadata": {},
     "output_type": "execute_result"
    }
   ],
   "source": [
    "rdd_trans_by_cust_with_comp.filter(lambda t: isMultipleDictBought(t[1])).take(10)"
   ]
  },
  {
   "cell_type": "code",
   "execution_count": 70,
   "metadata": {
    "collapsed": true
   },
   "outputs": [],
   "source": [
    "def isCompToothBrush(tran):\n",
    "    return int(tran[3]) == 70 and float(tran[5]) == 0.0"
   ]
  },
  {
   "cell_type": "code",
   "execution_count": 73,
   "metadata": {},
   "outputs": [
    {
     "data": {
      "text/plain": [
       "[(85, [u'2015-03-30', u'1:55 PM', u'85', '70', '1', '0.00']),\n",
       " (77, [u'2015-03-30', u'9:34 PM', u'77', '70', '1', '0.00']),\n",
       " (82, [u'2015-03-30', u'3:40 AM', u'82', '70', '1', '0.00']),\n",
       " (47, [u'2015-03-30', u'10:39 PM', u'47', '70', '1', '0.00']),\n",
       " (16, [u'2015-03-30', u'11:02 AM', u'16', '70', '1', '0.00']),\n",
       " (10, [u'2015-03-30', u'2:54 PM', u'10', '70', '1', '0.00'])]"
      ]
     },
     "execution_count": 73,
     "metadata": {},
     "output_type": "execute_result"
    }
   ],
   "source": [
    "rdd_trans_by_cust_with_comp.filter(lambda t: isCompToothBrush(t[1])).take(10)"
   ]
  },
  {
   "cell_type": "markdown",
   "metadata": {},
   "source": [
    "## Give a pair of pajamas (ID 63) to the customer who spent the most over all"
   ]
  },
  {
   "cell_type": "code",
   "execution_count": 77,
   "metadata": {
    "collapsed": true
   },
   "outputs": [],
   "source": [
    "# First convert transaction amount to float\n",
    "rdd_amount_by_cust = rdd_trans_by_cust_with_comp.mapValues(lambda tran: float(tran[5]))"
   ]
  },
  {
   "cell_type": "code",
   "execution_count": 78,
   "metadata": {},
   "outputs": [
    {
     "data": {
      "text/plain": [
       "[(51, 9506.21), (99, 4107.59), (79, 2987.22), (51, 7501.89), (86, 8370.2)]"
      ]
     },
     "execution_count": 78,
     "metadata": {},
     "output_type": "execute_result"
    }
   ],
   "source": [
    "rdd_amount_by_cust.take(5)"
   ]
  },
  {
   "cell_type": "code",
   "execution_count": 79,
   "metadata": {
    "collapsed": true
   },
   "outputs": [],
   "source": [
    "l_total = rdd_amount_by_cust.foldByKey(0, lambda v1, v2: v1 + v2).collect()"
   ]
  },
  {
   "cell_type": "code",
   "execution_count": 81,
   "metadata": {},
   "outputs": [
    {
     "data": {
      "text/plain": [
       "100"
      ]
     },
     "execution_count": 81,
     "metadata": {},
     "output_type": "execute_result"
    }
   ],
   "source": [
    "len(l_total)"
   ]
  },
  {
   "cell_type": "code",
   "execution_count": 82,
   "metadata": {
    "collapsed": true
   },
   "outputs": [],
   "source": [
    "(cid, total) = sorted(l_total, key=lambda t: t[1], reverse=True)[0]"
   ]
  },
  {
   "cell_type": "code",
   "execution_count": 83,
   "metadata": {},
   "outputs": [
    {
     "data": {
      "text/plain": [
       "(76, 100049.0)"
      ]
     },
     "execution_count": 83,
     "metadata": {},
     "output_type": "execute_result"
    }
   ],
   "source": [
    "(cid, total)"
   ]
  },
  {
   "cell_type": "code",
   "execution_count": 88,
   "metadata": {
    "collapsed": true
   },
   "outputs": [],
   "source": [
    "# Complementary pajamas\n",
    "l_l_complTrans += [[\"2015-03-30\", \"11:59 PM\", \"76\", \"63\", \"1\", \"0.00\"]]"
   ]
  },
  {
   "cell_type": "markdown",
   "metadata": {},
   "source": [
    "### Add complementary transactions to original rdd and save it to a file\n",
    "### Comp trans could have been added using foldByKey() as done above but this is another method"
   ]
  },
  {
   "cell_type": "code",
   "execution_count": 89,
   "metadata": {},
   "outputs": [
    {
     "data": {
      "text/plain": [
       "[['2015-03-30', '11:59 PM', '53', '4', '1', '0.00'],\n",
       " ['2015-03-30', '11:59 PM', '76', '63', '1', '0.00']]"
      ]
     },
     "execution_count": 89,
     "metadata": {},
     "output_type": "execute_result"
    }
   ],
   "source": [
    "l_l_complTrans"
   ]
  },
  {
   "cell_type": "code",
   "execution_count": 90,
   "metadata": {
    "collapsed": true
   },
   "outputs": [],
   "source": [
    "# Create rdd from comp trans\n",
    "rdd_comp_trans = sc.parallelize(l_l_complTrans) \\\n",
    "                    .map(lambda tran: (int(tran[2]), tran))"
   ]
  },
  {
   "cell_type": "code",
   "execution_count": 91,
   "metadata": {},
   "outputs": [
    {
     "data": {
      "text/plain": [
       "[(53, ['2015-03-30', '11:59 PM', '53', '4', '1', '0.00']),\n",
       " (76, ['2015-03-30', '11:59 PM', '76', '63', '1', '0.00'])]"
      ]
     },
     "execution_count": 91,
     "metadata": {},
     "output_type": "execute_result"
    }
   ],
   "source": [
    "rdd_comp_trans.take(5)"
   ]
  },
  {
   "cell_type": "code",
   "execution_count": 92,
   "metadata": {
    "collapsed": true
   },
   "outputs": [],
   "source": [
    "rdd_final_trans_by_cust = rdd_trans_by_cust_with_comp.union(rdd_comp_trans)"
   ]
  },
  {
   "cell_type": "code",
   "execution_count": 93,
   "metadata": {},
   "outputs": [
    {
     "data": {
      "text/plain": [
       "1008"
      ]
     },
     "execution_count": 93,
     "metadata": {},
     "output_type": "execute_result"
    }
   ],
   "source": [
    "rdd_final_trans_by_cust.count()"
   ]
  },
  {
   "cell_type": "code",
   "execution_count": 95,
   "metadata": {},
   "outputs": [],
   "source": [
    "# Save the rdd\n",
    "rdd_final_trans_by_cust.map(lambda t: '#'.join(t[1])).saveAsTextFile('dataOut/ch04_finaltransbycust')"
   ]
  },
  {
   "cell_type": "markdown",
   "metadata": {},
   "source": [
    "### [aggregateByKey](http://spark.apache.org/docs/2.1.0/api/python/pyspark.html#pyspark.RDD.aggregateByKey)"
   ]
  }
 ],
 "metadata": {
  "kernelspec": {
   "display_name": "Spark venv (Python 2)",
   "language": "python",
   "name": "sparkvenv"
  },
  "language_info": {
   "codemirror_mode": {
    "name": "ipython",
    "version": 2
   },
   "file_extension": ".py",
   "mimetype": "text/x-python",
   "name": "python",
   "nbconvert_exporter": "python",
   "pygments_lexer": "ipython2",
   "version": "2.7.12"
  }
 },
 "nbformat": 4,
 "nbformat_minor": 2
}
